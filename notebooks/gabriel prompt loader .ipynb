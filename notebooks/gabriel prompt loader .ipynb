{
 "cells": [
  {
   "cell_type": "markdown",
   "id": "81925204",
   "metadata": {},
   "source": [
    "## Testando Prompt (usando classe nas tools)"
   ]
  },
  {
   "cell_type": "markdown",
   "id": "f09fdef3",
   "metadata": {},
   "source": [
    "### Tokens e imports"
   ]
  },
  {
   "cell_type": "code",
   "execution_count": 2,
   "id": "43d8ff2a",
   "metadata": {},
   "outputs": [],
   "source": [
    "# default\n",
    "import os\n",
    "from getpass import getpass\n",
    "import pandas as pd\n",
    "from typing import Annotated\n",
    "from typing_extensions import TypedDict\n",
    "\n",
    "# langchain \n",
    "from langgraph.graph.message import add_messages\n",
    "from langchain.agents import tool\n",
    "from langgraph.graph import StateGraph, START, END, MessagesState\n",
    "from langgraph.prebuilt import ToolNode, tools_condition\n",
    "from langgraph.checkpoint.memory import MemorySaver\n",
    "from langchain.tools.render import render_text_description\n",
    "\n",
    "from langchain_community.chat_models import ChatDeepInfra\n",
    "from langchain_community.tools.tavily_search import TavilySearchResults\n",
    "\n",
    "from langchain_core.messages import HumanMessage, SystemMessage, AIMessage\n",
    "from langchain_core.prompts import ChatPromptTemplate, PromptTemplate\n",
    "from langchain_core.prompts import HumanMessagePromptTemplate\n",
    "\n",
    "# from langchain_experimental.agents.agent_toolkits import create_pandas_dataframe_agent\n",
    "\n",
    "\n",
    "from dotenv import load_dotenv\n"
   ]
  },
  {
   "cell_type": "code",
   "execution_count": 3,
   "id": "6029158f",
   "metadata": {},
   "outputs": [],
   "source": [
    "os.environ[\"DEEPINFRA_API_TOKEN\"] = getpass(\"Digite sua chave da DeepInfra: \")"
   ]
  },
  {
   "cell_type": "code",
   "execution_count": 4,
   "id": "9450b8ab",
   "metadata": {},
   "outputs": [],
   "source": [
    "\n",
    "chat = ChatDeepInfra(model=\"deepseek-ai/DeepSeek-V3\") "
   ]
  },
  {
   "cell_type": "code",
   "execution_count": 5,
   "id": "43e569a0",
   "metadata": {},
   "outputs": [],
   "source": [
    "os.environ[\"TAVILY_API_KEY\"] = getpass(\"Digite sua chave do Travily: \")\n",
    "#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"
   ]
  },
  {
   "cell_type": "markdown",
   "id": "05063302",
   "metadata": {},
   "source": [
    "### Definindo Tools\n",
    "Aqui definirei as tools do meu agente. Inicialmente tools simples e aleatórias apenas para testar"
   ]
  },
  {
   "cell_type": "code",
   "execution_count": 6,
   "id": "3f4a4088",
   "metadata": {},
   "outputs": [
    {
     "name": "stdout",
     "output_type": "stream",
     "text": [
      "DataFrame global carregado com 26208 linhas e 359 colunas.\n"
     ]
    }
   ],
   "source": [
    "df_global = pd.read_csv(\"./datasets/pems03.csv\")\n",
    "print(f\"DataFrame global carregado com {df_global.shape[0]} linhas e {df_global.shape[1]} colunas.\")\n",
    "\n",
    "\n",
    "@tool(\"get_column_names\")\n",
    "def get_column_names(state: dict) -> str:\n",
    "    \"\"\"\n",
    "    Retorna uma lista com todos os nomes das colunas do dataset.\n",
    "    Útil para saber quais colunas estão disponíveis para análise.\n",
    "    \"\"\"\n",
    "    df = state['dataframe']\n",
    "    return str(df.columns.tolist())\n",
    "\n",
    "@tool(\"summary_statistics\")\n",
    "def summary_statistics(state: dict, column_name: str) -> str:\n",
    "    \"\"\"\n",
    "    Calcula estatísticas descritivas para uma coluna numérica específica.\n",
    "    Retorna média, desvio padrão, mínimo, máximo e os quartis.\n",
    "    \"\"\"\n",
    "    df = state['dataframe']\n",
    "    try:\n",
    "        return df[column_name].describe().to_string()\n",
    "    except KeyError:\n",
    "        return f\"Erro: A coluna '{column_name}' não existe. Colunas disponíveis: {df.columns.tolist()}\"\n",
    "    except TypeError:\n",
    "        return f\"Erro: A coluna '{column_name}' não parece ser numérica. Tente usar 'value_counts'.\"\n",
    "\n",
    "@tool(\"value_counts\")\n",
    "def value_counts(state: dict, column_name: str) -> str:\n",
    "    \"\"\"\n",
    "    Conta a frequência de cada valor único em uma coluna categórica.\n",
    "    \"\"\"\n",
    "    df = state['dataframe']\n",
    "    try:\n",
    "        return df[column_name].value_counts().to_string()\n",
    "    except KeyError:\n",
    "        return f\"Erro: A coluna '{column_name}' não existe. Colunas disponíveis: {df.columns.tolist()}\"\n",
    "\n",
    "@tool(\"check_missing_values\")\n",
    "def check_missing_values(state: dict, column_name: str) -> str:\n",
    "    \"\"\"\n",
    "    Verifica e conta a quantidade de valores nulos (NaN) em uma coluna específica.\n",
    "    \"\"\"\n",
    "    df = state['dataframe']\n",
    "    try:\n",
    "        missing_count = df[column_name].isnull().sum()\n",
    "        return f\"A coluna '{column_name}' tem {missing_count} valores faltantes.\"\n",
    "    except KeyError:\n",
    "        return f\"Erro: A coluna '{column_name}' não existe. Colunas disponíveis: {df.columns.tolist()}\"\n",
    "\n",
    "@tool(\"calculate_correlation\")\n",
    "def calculate_correlation(state: dict, column_a: str, column_b: str) -> str:\n",
    "    \"\"\"\n",
    "    Calcula a correlação entre duas colunas numéricas. O valor varia de -1 a 1.\n",
    "    \"\"\"\n",
    "    df = state['dataframe']\n",
    "    try:\n",
    "        correlation = df[[column_a, column_b]].corr().iloc[0, 1]\n",
    "        return f\"A correlação entre '{column_a}' e '{column_b}' é: {correlation:.4f}\"\n",
    "    except KeyError as e:\n",
    "        return f\"Erro: Uma das colunas não existe. Coluna não encontrada: {e}. Colunas disponíveis: {df.columns.tolist()}\"\n",
    "    except TypeError:\n",
    "        return f\"Erro: Uma ou ambas as colunas não são numéricas. Não é possível calcular a correlação.\"\n"
   ]
  },
  {
   "cell_type": "code",
   "execution_count": 8,
   "id": "f86c25e1",
   "metadata": {},
   "outputs": [],
   "source": [
    "# ta faltando o 'tavily' nas tools, depois adiciono\n",
    "tools = [get_column_names,\n",
    "        summary_statistics,\n",
    "        value_counts,\n",
    "        check_missing_values,\n",
    "        calculate_correlation]"
   ]
  },
  {
   "cell_type": "code",
   "execution_count": 9,
   "id": "4b6865f8",
   "metadata": {},
   "outputs": [],
   "source": [
    "chat_with_tools = chat.bind_tools(tools)"
   ]
  },
  {
   "cell_type": "markdown",
   "id": "68cf04ac",
   "metadata": {},
   "source": [
    "### Definições LangChain"
   ]
  },
  {
   "cell_type": "code",
   "execution_count": 20,
   "id": "986c622b",
   "metadata": {},
   "outputs": [],
   "source": [
    "# Definição do estado\n",
    "\n",
    "class State(TypedDict):\n",
    "    messages: Annotated[list, add_messages]\n",
    "    dataframe_path: str\n",
    "    # dataframe: pd.DataFrame\n",
    "\n",
    "graph_builder = StateGraph(State)"
   ]
  },
  {
   "cell_type": "code",
   "execution_count": 21,
   "id": "49539695",
   "metadata": {},
   "outputs": [
    {
     "data": {
      "text/plain": [
       "<langgraph.graph.state.StateGraph at 0x1641f89d750>"
      ]
     },
     "execution_count": 21,
     "metadata": {},
     "output_type": "execute_result"
    }
   ],
   "source": [
    "# Definição de nós do grafo \n",
    "\n",
    "# NOVO NÓ para carregar os dados\n",
    "def load_dataframe_node(state: State):\n",
    "    \"\"\"\n",
    "    Carrega o DataFrame do caminho especificado no estado\n",
    "    e o adiciona ao estado em memória.\n",
    "    \"\"\"\n",
    "    df = pd.read_csv(state[\"dataframe_path\"])\n",
    "    print(f\"DataFrame carregado dinamicamente com {df.shape[0]} linhas.\")\n",
    "    # Adiciona o dataframe carregado ao estado atual da execução\n",
    "    return {\"dataframe\": df}\n",
    "\n",
    "# Nó ja existente\n",
    "def chatbot(state: State):\n",
    "    return {\"messages\": [chat_with_tools.invoke(state[\"messages\"])]}\n",
    "\n",
    "tool_node = ToolNode(tools=tools)\n",
    "\n",
    "# Adicionando os nós ao construtor do grafo\n",
    "graph_builder.add_node(\"loader\", load_dataframe_node)\n",
    "graph_builder.add_node(\"chatbot\", chatbot)\n",
    "graph_builder.add_node(\"tools\", tool_node)"
   ]
  },
  {
   "cell_type": "code",
   "execution_count": null,
   "id": "d7dd5dea",
   "metadata": {},
   "outputs": [
    {
     "data": {
      "image/png": "[encoded data removed]",
      "text/plain": [
       "<IPython.core.display.Image object>"
      ]
     },
     "metadata": {},
     "output_type": "display_data"
    }
   ],
   "source": [
    "# Criar o grafo\n",
    "\n",
    "# O ponto de entrada agora é o nosso novo nó 'loader'\n",
    "graph_builder.add_edge(START, \"loader\")\n",
    "\n",
    "# Após carregar, o loader passa o controle para o chatbot\n",
    "graph_builder.add_edge(\"loader\", \"chatbot\")\n",
    "\n",
    "graph_builder.add_conditional_edges(\"chatbot\", tools_condition)\n",
    "graph_builder.add_edge(\"tools\", \"chatbot\")\n",
    "\n",
    "checkpointer=MemorySaver()\n",
    "\n",
    "config = {\n",
    "    \"configurable\": {\n",
    "        \"api_key\": \"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\",  # key da deepinfra ou \n",
    "        \"model\": \"deepseek-ai/DeepSeek-V3\",  # Your model\n",
    "        \"thread_id\": \"1\"  # Optional conversation tracking\n",
    "    }\n",
    "}\n",
    "\n",
    "graph = graph_builder.compile(checkpointer=checkpointer)\n",
    "\n",
    "# from IPython.display import Image, display\n",
    "# display(Image(graph.get_graph().draw_mermaid_png()))"
   ]
  },
  {
   "cell_type": "markdown",
   "id": "6181c141",
   "metadata": {},
   "source": [
    "### Agent Prompting\n",
    "Essa é a parte que estou focando. Estou tentando usar \"Iterative Refinement Prompting\" & \"Reasoning and Acting\"\n",
    "\n",
    "Possíveis melhorias: usar mais Identity Prompting (mais de uma persona pode ser bom); aprender \"Meta Prompting\";  aumentar o \"Self-reflection Prompts\"; usar LLM para gerar o \"Iterative Refinement Prompting\"\n"
   ]
  },
  {
   "cell_type": "code",
   "execution_count": 29,
   "id": "fcd24212",
   "metadata": {},
   "outputs": [],
   "source": [
    "\n",
    "react_template = \"\"\"\n",
    "Você é um analista de dados especialista em Análise Exploratória de Dados (EDA), com foco principal em datasets de séries temporais. Sua tarefa é usar as ferramentas disponíveis para extrair insights valiosos e responder às perguntas do usuário, seguindo um ciclo rigoroso de raciocínio.\n",
    "\n",
    "Você tem acesso às seguintes ferramentas:\n",
    "{tools}\n",
    "\n",
    "### REGRAS DE EXECUÇÃO\n",
    "1.  **Ciclo de Análise**: Você deve decompor o problema em passos. Para cada passo, você gerará um **Pensamento** e uma **Ação**. Sua resposta DEVE parar após o JSON da Ação.\n",
    "2.  **Análise da Observação**: Após sua ação, o sistema fornecerá uma **Observação**. Você DEVE analisar esta observação (seja um resultado ou um erro) para formular seu próximo Pensamento e Ação.\n",
    "3.  **Simplicidade das Ferramentas**: As ferramentas são simples. Elas NÃO aceitam filtros ou lógicas complexas no `action_input`. Se uma tarefa requer múltiplos passos (como filtrar por data e depois contar), você DEVE usar ferramentas em passos separados.\n",
    "4.  **Formato do Input**: O formato de `action_input` é CRÍTICO. Para ferramentas que pedem um nome de coluna (como `value_counts`), o input deve ser uma STRING SIMPLES (ex: `\"Minha_Coluna\"`), não um objeto JSON.\n",
    "\n",
    "### EXEMPLO DE CICLO COMPLETO\n",
    "\n",
    "Pergunta: Qual a distribuição da coluna 'Vendas_Totais'?\n",
    "Pensamento: Não tenho certeza do nome exato da coluna. Vou primeiro verificar todos os nomes de colunas disponíveis para ter certeza.\n",
    "Ação:\n",
    "```json\n",
    "{\n",
    "    \"action\": \"get_column_names\",\n",
    "    \"action_input\": {}\n",
    "}\n",
    "```\n",
    "Observação: ['Timestamp', 'Vendas_Totais', 'Regiao', 'ID_Produto']\n",
    "Pensamento: Agora vejo o nome correto da coluna é 'Vendas_Totais'. Vou chamar value_counts para obter a distribuição, usando o formato de string simples como a ferramenta requer.\n",
    "Ação:\n",
    "```json\n",
    "{\n",
    "    \"action\": \"value_counts\",\n",
    "    \"action_input\": \"Vendas_Totais\"\n",
    "}\n",
    "```\n",
    "Observação: [Resultado da ferramenta value_counts]\n",
    "Pensamento: Agora tenho a informação que preciso para responder diretamente ao usuário.\n",
    "Resposta Final: A distribuição da coluna 'Vendas_Totais' é a seguinte: [resultado do value_counts aqui]\n",
    "\n",
    "SEU TURNO\n",
    "Agora, siga o mesmo processo. Analise a pergunta e o histórico (Observações).\n",
    "\n",
    "Se você precisar de mais informações, use este formato:\n",
    "Pensamento: [Seu raciocínio sobre qual ferramenta usar e por quê]\n",
    "Ação:\n",
    "```json\n",
    "{\n",
    "\"action\": \"nome da ferramenta\",\n",
    "\"action_input\": \"entrada da ferramenta\"\n",
    "}\n",
    "```\n",
    "Se você já pode responder, use este formato:\n",
    "Pensamento: [Seu raciocínio de que a informação é suficiente]\n",
    "Resposta Final: [Sua resposta completa e bem formatada para o usuário]\n",
    "\"\"\"\n",
    "\n",
    "prompt_template = ChatPromptTemplate.from_messages(\n",
    "                [\n",
    "                    SystemMessage(content=react_template, input_variables=['tool_names', 'tools']),\n",
    "                    HumanMessagePromptTemplate.from_template(\"{question}\"),\n",
    "                ]\n",
    "            )\n",
    "\n",
    "\n",
    "prompt = prompt_template.partial(\n",
    "    tools=render_text_description(tools),\n",
    "    tool_names=\", \".join([t.name for t in tools]),\n",
    ")\n"
   ]
  },
  {
   "cell_type": "markdown",
   "id": "f325ddc5",
   "metadata": {},
   "source": [
    "### Tentando conversar com o agente"
   ]
  },
  {
   "cell_type": "code",
   "execution_count": 30,
   "id": "e53543a3",
   "metadata": {},
   "outputs": [
    {
     "name": "stdout",
     "output_type": "stream",
     "text": [
      "DataFrame carregado dinamicamente com 26208 linhas.\n"
     ]
    }
   ],
   "source": [
    "# A invocação inicial agora inclui o dataframe\n",
    "estado = graph.invoke(\n",
    "    {\n",
    "        \"messages\": prompt.format_messages(question=\"Quais são os nomes das colunas?\"),\n",
    "        \"dataframe_path\": \"./datasets/pems03.csv\"  # Passando o caminho \n",
    "    },\n",
    "    config\n",
    ")"
   ]
  },
  {
   "cell_type": "code",
   "execution_count": 31,
   "id": "bd784ecd",
   "metadata": {},
   "outputs": [
    {
     "data": {
      "text/plain": [
       "[SystemMessage(content='\\nVocê é um analista de dados especialista em Análise Exploratória de Dados (EDA), com foco principal em datasets de séries temporais. Sua tarefa é usar as ferramentas disponíveis para extrair insights valiosos e responder às perguntas do usuário, seguindo um ciclo rigoroso de raciocínio.\\n\\nVocê tem acesso às seguintes ferramentas:\\n{tools}\\n\\n### REGRAS DE EXECUÇÃO\\n1.  **Ciclo de Análise**: Você deve decompor o problema em passos. Para cada passo, você gerará um **Pensamento** e uma **Ação**. Sua resposta DEVE parar após o JSON da Ação.\\n2.  **Análise da Observação**: Após sua ação, o sistema fornecerá uma **Observação**. Você DEVE analisar esta observação (seja um resultado ou um erro) para formular seu próximo Pensamento e Ação.\\n3.  **Simplicidade das Ferramentas**: As ferramentas são simples. Elas NÃO aceitam filtros ou lógicas complexas no `action_input`. Se uma tarefa requer múltiplos passos (como filtrar por data e depois contar), você DEVE usar ferramentas em passos separados.\\n4.  **Formato do Input**: O formato de `action_input` é CRÍTICO. Para ferramentas que pedem um nome de coluna (como `value_counts`), o input deve ser uma STRING SIMPLES (ex: `\"Minha_Coluna\"`), não um objeto JSON.\\n\\n### EXEMPLO DE CICLO DE CORREÇÃO (Seu Guia)\\n\\nVeja um exemplo de como reagir a um erro:\\n\\nPergunta: Qual a distribuição da coluna \\'Vendas\\'?\\nPensamento: A pergunta é sobre a coluna \\'Vendas\\'. Vou usar a ferramenta `value_counts` para ver a distribuição dos valores.\\nAção:\\n```json\\n{\\n\"action\": \"value_counts\",\\n\"action_input\": {\\n\"column_name\": \"Vendas\"\\n}\\n}\\n```\\nObservação: Erro: O input para \\'value_counts\\' deve ser uma string, não um objeto.\\nPensamento: Ocorreu um erro. A observação diz que o action_input para value_counts deve ser uma string simples, mas eu enviei um objeto JSON. Além disso, não tenho certeza se \\'Vendas\\' é o nome exato da coluna. Vou primeiro verificar todos os nomes de colunas disponíveis para ter certeza e depois tentarei chamar value_counts com o formato correto.\\nAção:\\n```json\\n{\\n\"action\": \"get_column_names\",\\n\"action_input\": {}\\n}\\n```\\nObservação: [\\'Timestamp\\', \\'Vendas_Totais\\', \\'Regiao\\', \\'ID_Produto\\']\\nPensamento: Agora vejo o nome correto da coluna é \\'Vendas_Totais\\'. Vou chamar value_counts novamente, desta vez com o nome correto e no formato de string simples, como a primeira mensagem de erro instruiu.\\nAção:\\n```json\\n{\\n\"action\": \"value_counts\",\\n\"action_input\": \"Vendas_Totais\"\\n}\\n```\\nObservação: [Resultado da ferramenta value_counts]\\nPensamento: Agora tenho a informação que preciso para responder.\\nResposta Final: A distribuição da coluna \\'Vendas_Totais\\' é a seguinte...\\n\\n\\nSEU TURNO\\nAgora, siga o mesmo processo. Use o formato abaixo, parando sempre após a Ação.\\n\\nFormato:\\nPergunta: a pergunta de entrada que você deve responder\\nPensamento: ...\\nAção:\\n```json\\n{\\n\"action\": \"nome da ferramenta\",\\n\"action_input\": \"entrada da ferramenta\"\\n}\\n```\\n\\n', additional_kwargs={}, response_metadata={}, id='e9b7a54a-257e-4192-90f9-9219085a2d32', input_variables=['tool_names', 'tools']),\n",
       " HumanMessage(content='Quais são os nomes das colunas?', additional_kwargs={}, response_metadata={}, id='4bbc6bac-d3a4-4c2b-a9cc-124e89d37d25'),\n",
       " AIMessage(content='Pensamento: O usuário deseja conhecer todos os nomes das colunas disponíveis no dataset. Vou utilizar a ferramenta `get_column_names` para obter essa informação.\\n\\nAção:\\n```json\\n{\\n\"action\": \"get_column_names\",\\n\"action_input\": {}\\n}\\n```', additional_kwargs={}, response_metadata={'token_usage': {'prompt_tokens': 1788, 'total_tokens': 1852, 'completion_tokens': 64, 'estimated_cost': 0.0007364000000000001}, 'model': 'deepseek-ai/DeepSeek-V3', 'finish_reason': 'stop'}, id='run--3044bf37-a15a-4fd3-9731-af3682af95ec-0'),\n",
       " SystemMessage(content='\\nVocê é um analista de dados especialista em Análise Exploratória de Dados (EDA), com foco principal em datasets de séries temporais. Sua tarefa é usar as ferramentas disponíveis para extrair insights valiosos e responder às perguntas do usuário, seguindo um ciclo rigoroso de raciocínio.\\n\\nVocê tem acesso às seguintes ferramentas:\\n{tools}\\n\\n### REGRAS DE EXECUÇÃO\\n1.  **Ciclo de Análise**: Você deve decompor o problema em passos. Para cada passo, você gerará um **Pensamento** e uma **Ação**. Sua resposta DEVE parar após o JSON da Ação.\\n2.  **Análise da Observação**: Após sua ação, o sistema fornecerá uma **Observação**. Você DEVE analisar esta observação (seja um resultado ou um erro) para formular seu próximo Pensamento e Ação.\\n3.  **Simplicidade das Ferramentas**: As ferramentas são simples. Elas NÃO aceitam filtros ou lógicas complexas no `action_input`. Se uma tarefa requer múltiplos passos (como filtrar por data e depois contar), você DEVE usar ferramentas em passos separados.\\n4.  **Formato do Input**: O formato de `action_input` é CRÍTICO. Para ferramentas que pedem um nome de coluna (como `value_counts`), o input deve ser uma STRING SIMPLES (ex: `\"Minha_Coluna\"`), não um objeto JSON.\\n\\n### EXEMPLO DE CICLO COMPLETO\\n\\nPergunta: Qual a distribuição da coluna \\'Vendas_Totais\\'?\\nPensamento: Não tenho certeza do nome exato da coluna. Vou primeiro verificar todos os nomes de colunas disponíveis para ter certeza.\\nAção:\\n```json\\n{\\n    \"action\": \"get_column_names\",\\n    \"action_input\": {}\\n}\\n```\\nObservação: [\\'Timestamp\\', \\'Vendas_Totais\\', \\'Regiao\\', \\'ID_Produto\\']\\nPensamento: Agora vejo o nome correto da coluna é \\'Vendas_Totais\\'. Vou chamar value_counts para obter a distribuição, usando o formato de string simples como a ferramenta requer.\\nAção:\\n```json\\n{\\n    \"action\": \"value_counts\",\\n    \"action_input\": \"Vendas_Totais\"\\n}\\n```\\nObservação: [Resultado da ferramenta value_counts]\\nPensamento: Agora tenho a informação que preciso para responder diretamente ao usuário.\\nResposta Final: A distribuição da coluna \\'Vendas_Totais\\' é a seguinte: [resultado do value_counts aqui]\\n\\nSEU TURNO\\nAgora, siga o mesmo processo. Analise a pergunta e o histórico (Observações).\\n\\nSe você precisar de mais informações, use este formato:\\nPensamento: [Seu raciocínio sobre qual ferramenta usar e por quê]\\nAção:\\n```json\\n{\\n\"action\": \"nome da ferramenta\",\\n\"action_input\": \"entrada da ferramenta\"\\n}\\n```\\nSe você já pode responder, use este formato:\\nPensamento: [Seu raciocínio de que a informação é suficiente]\\nResposta Final: [Sua resposta completa e bem formatada para o usuário]\\n', additional_kwargs={}, response_metadata={}, id='720a3381-684a-447d-9901-1c4fcaeac1ff', input_variables=['tool_names', 'tools']),\n",
       " HumanMessage(content='Quais são os nomes das colunas?', additional_kwargs={}, response_metadata={}, id='2b604702-f88a-4f3d-979f-4ff217780d62'),\n",
       " AIMessage(content='Pensamento: O usuário deseja conhecer todos os nomes das colunas disponíveis no dataset. Vou utilizar a ferramenta `get_column_names` para obter essa informação.\\n\\nAção:\\n```json\\n{\\n\"action\": \"get_column_names\",\\n\"action_input\": {}\\n}\\n```', additional_kwargs={}, response_metadata={'token_usage': {'prompt_tokens': 2604, 'total_tokens': 2669, 'completion_tokens': 65, 'estimated_cost': 0.0010473700000000002}, 'model': 'deepseek-ai/DeepSeek-V3', 'finish_reason': 'stop'}, id='run--bdb1e5d1-50c0-47e3-bcc8-ca2aecd85a9c-0')]"
      ]
     },
     "execution_count": 31,
     "metadata": {},
     "output_type": "execute_result"
    }
   ],
   "source": [
    "estado[\"messages\"]"
   ]
  }
 ],
 "metadata": {
  "kernelspec": {
   "display_name": "agenteiadp",
   "language": "python",
   "name": "python3"
  },
  "language_info": {
   "codemirror_mode": {
    "name": "ipython",
    "version": 3
   },
   "file_extension": ".py",
   "mimetype": "text/x-python",
   "name": "python",
   "nbconvert_exporter": "python",
   "pygments_lexer": "ipython3",
   "version": "3.11.13"
  }
 },
 "nbformat": 4,
 "nbformat_minor": 5
}
