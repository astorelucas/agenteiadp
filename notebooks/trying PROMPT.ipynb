{
 "cells": [
  {
   "cell_type": "markdown",
   "id": "81925204",
   "metadata": {},
   "source": [
    "## LangChain Agents"
   ]
  },
  {
   "cell_type": "code",
   "execution_count": 1,
   "id": "6029158f",
   "metadata": {},
   "outputs": [],
   "source": [
    "import os\n",
    "from getpass import getpass\n",
    "\n",
    "os.environ[\"DEEPINFRA_API_TOKEN\"] = getpass(\"Digite sua chave da DeepInfra: \")"
   ]
  },
  {
   "cell_type": "code",
   "execution_count": 2,
   "id": "9450b8ab",
   "metadata": {},
   "outputs": [],
   "source": [
    "\n",
    "from langchain_community.chat_models import ChatDeepInfra\n",
    "from langchain_core.messages import HumanMessage, SystemMessage, AIMessage\n",
    "\n",
    "chat = ChatDeepInfra(model=\"deepseek-ai/DeepSeek-V3\") \n"
   ]
  },
  {
   "cell_type": "code",
   "execution_count": 3,
   "id": "43e569a0",
   "metadata": {},
   "outputs": [],
   "source": [
    "from getpass import getpass\n",
    "\n",
    "os.environ[\"TAVILY_API_KEY\"] = getpass(\"Digite sua chave do Travily: \")\n",
    "#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"
   ]
  },
  {
   "cell_type": "code",
   "execution_count": 4,
   "id": "88238c7c",
   "metadata": {},
   "outputs": [
    {
     "name": "stderr",
     "output_type": "stream",
     "text": [
      "C:\\Users\\Gabriel\\AppData\\Local\\Temp\\ipykernel_17828\\3558227869.py:3: LangChainDeprecationWarning: The class `TavilySearchResults` was deprecated in LangChain 0.3.25 and will be removed in 1.0. An updated version of the class exists in the :class:`~langchain-tavily package and should be used instead. To use it run `pip install -U :class:`~langchain-tavily` and import as `from :class:`~langchain_tavily import TavilySearch``.\n",
      "  tavily = TavilySearchResults(max_results=2)\n"
     ]
    },
    {
     "name": "stdout",
     "output_type": "stream",
     "text": [
      "[{'title': 'Belo Horizonte, MG | Previsão do Tempo - G1 - Globo', 'url': 'https://g1.globo.com/previsao-do-tempo/mg/belo-horizonte.ghtml', 'content': 'Período marca início da estação seca na capital, e época em que dia e noite têm mesma duração. Especialistas esperam seca prolongada.\\n\\nMoradores do DF comemoram chuva na capital; veja imagens\\n\\nMoradores do DF comemoram chuva na capital; veja imagens\\n\\nSegundo Inmet, pancadas isoladas acompanhadas de rajadas de vento e trovoadas se repetem ao longo da semana. Calor continua com temperatura chegando a 32°C. [...] Hoje, terça-feira\\n\\nBelo Horizonte, MG\\n\\nSol com muitas nuvens durante o dia e períodos de céu nublado. Noite com muitas nuvens.\\n\\nManhã\\n\\nTarde\\n\\nNoite\\n\\nPróximos dias\\n\\nPrevisão pelo Brasil\\n\\nInformações meteorológicas fornecidas pelo CLIMATEMPO e sujeitas a disponibilidade do seu serviço\\n\\nMaio terá tardes secas e madrugadas mais frias com fim das chuvas no DF\\n\\nMaio terá tardes secas e madrugadas mais frias com fim das chuvas no DF [...] De aumento no consumo de água ao uso de acessórios; veja como se proteger das altas temperaturas no DF\\n\\nSegundo o Inmet, até domingo (23) não chove e temperatura chega aos 31°C. Médicos alertam: calor excessivo representa risco de vida porque temperatura ambiente está interligada ao funcionamento do organismo.\\n\\nVÍDEO: chuva forte alaga ruas do DF; Defesa Civil emite alerta\\n\\nVÍDEO: chuva forte alaga ruas do DF; Defesa Civil emite alerta', 'score': 0.67140645}, {'title': 'Clima e Previsão do Tempo para 15 Dias em Belo Horizonte (MG)', 'url': 'https://www.climatempo.com.br/previsao-do-tempo/15-dias/cidade/107/belohorizonte-mg', 'content': 'Não há previsão de chuva para os próximos 15 dias\\n\\nDia\\n29\\n  \\nHOJE\\n\\nDia\\n30\\n  \\nSex\\n\\nDia\\n31\\n  \\nSáb\\n\\nDia\\n01\\n  \\nDom\\n\\nDia\\n02\\n  \\nSeg\\n\\nDia\\n03\\n  \\nTer\\n\\nDia\\n04\\n  \\nQua\\n\\nDia\\n05\\n  \\nQui\\n\\nDia\\n06\\n  \\nSex\\n\\nDia\\n07\\n  \\nSáb\\n\\nDia\\n08\\n  \\nDom\\n\\nDia\\n09\\n  \\nSeg\\n\\nDia\\n10\\n  \\nTer\\n\\nDia\\n11\\n  \\nQua\\n\\nDia\\n12\\n  \\nQui\\n\\nSol com muitas nuvens\\nTemperatura mínima\\nTemperatura máxima\\n\\nA previsão do tempo para quinta-feira é de\\nSol com muitas nuvens durante o dia e períodos de céu nublado. Noite com muitas nuvens. [...] Sol com muitas nuvens durante o dia e períodos de céu nublado. Noite com poucas nuvens.\\n\\nCompartilhe no Whatsapp\\nCompartilhe no Facebook\\nCompartilhe no Twitter\\n\\nTemperatura\\n\\nTemperatura mínima\\nTemperatura máxima\\n\\nChuva\\n\\nVento\\n\\nUmidade do ar\\n\\nUmidade mínima\\nUmidade máxima\\n\\nArco-íris\\n\\nSem probabilid.\\n\\nSol\\n\\n06:26:06 - 17:23:28\\n\\nLua\\n\\ncrescente\\n\\nSol com muitas nuvens\\nTemperatura mínima\\nTemperatura máxima\\n\\nSol com muitas nuvens durante o dia e períodos de céu nublado. Noite com muitas nuvens. [...] Sol com muitas nuvens durante o dia e períodos de céu nublado. Noite com muitas nuvens.\\n\\nCompartilhe no Whatsapp\\nCompartilhe no Facebook\\nCompartilhe no Twitter\\n\\nTemperatura\\n\\nTemperatura mínima\\nTemperatura máxima\\n\\nChuva\\n\\nVento\\n\\nUmidade do ar\\n\\nUmidade mínima\\nUmidade máxima\\n\\nArco-íris\\n\\nSem probabilid.\\n\\nSol\\n\\n06:23:56 - 17:23:30\\n\\nLua\\n\\ncrescente\\n\\nSol com muitas nuvens\\nTemperatura mínima\\nTemperatura máxima\\n\\nSol com algumas nuvens ao longo do dia. Noite de céu limpo.', 'score': 0.56431514}]\n"
     ]
    }
   ],
   "source": [
    "from langchain_community.tools.tavily_search import TavilySearchResults\n",
    "\n",
    "tavily = TavilySearchResults(max_results=2)\n",
    "search_results = tavily.invoke(\"Qual a temperatura na cidade de Belo Horizonte hoje?\")\n",
    "print(search_results)"
   ]
  },
  {
   "cell_type": "code",
   "execution_count": 45,
   "id": "3f4a4088",
   "metadata": {},
   "outputs": [],
   "source": [
    "# NOVO CONTEÚDO PARA AS CÉLULAS 7 E 8\n",
    "\n",
    "import pandas as pd\n",
    "import os\n",
    "import functools\n",
    "from langchain.agents import tool\n",
    "from pydantic.v1 import BaseModel, Field\n",
    "\n",
    "# --- 1. DEFINIÇÃO DAS FUNÇÕES SIMPLES ---\n",
    "\n",
    "@tool\n",
    "def get_column_names(df: pd.DataFrame) -> str:\n",
    "    \"\"\"\n",
    "    Retorna uma lista com todos os nomes das colunas do dataset.\n",
    "    Útil para saber quais colunas estão disponíveis para análise.\n",
    "    \"\"\"\n",
    "    return str(df.columns.tolist())\n",
    "\n",
    "@tool\n",
    "def summary_statistics(df: pd.DataFrame, column_name: str) -> str:\n",
    "    \"\"\"\n",
    "    Calcula estatísticas descritivas para uma coluna numérica específica.\n",
    "    Retorna média, desvio padrão, mínimo, máximo e os quartis.\n",
    "    \"\"\"\n",
    "    try:\n",
    "        return df[column_name].describe().to_string()\n",
    "    except KeyError:\n",
    "        return f\"Erro: A coluna '{column_name}' não existe. Colunas disponíveis: {df.columns.tolist()}\"\n",
    "    except TypeError:\n",
    "        return f\"Erro: A coluna '{column_name}' não parece ser numérica. Tente usar 'value_counts'.\"\n",
    "\n",
    "@tool\n",
    "def value_counts(df: pd.DataFrame, column_name: str) -> str:\n",
    "    \"\"\"\n",
    "    Conta a frequência de cada valor único em uma coluna categórica.\n",
    "    \"\"\"\n",
    "    try:\n",
    "        return df[column_name].value_counts().to_string()\n",
    "    except KeyError:\n",
    "        return f\"Erro: A coluna '{column_name}' não existe. Colunas disponíveis: {df.columns.tolist()}\"\n",
    "\n",
    "@tool\n",
    "def check_missing_values(df: pd.DataFrame, column_name: str) -> str:\n",
    "    \"\"\"\n",
    "    Verifica e conta a quantidade de valores nulos (NaN) em uma coluna específica.\n",
    "    \"\"\"\n",
    "    try:\n",
    "        missing_count = df[column_name].isnull().sum()\n",
    "        return f\"A coluna '{column_name}' tem {missing_count} valores faltantes.\"\n",
    "    except KeyError:\n",
    "        return f\"Erro: A coluna '{column_name}' não existe. Colunas disponíveis: {df.columns.tolist()}\"\n",
    "\n",
    "@tool\n",
    "def calculate_correlation(df: pd.DataFrame, column_a: str, column_b: str) -> str:\n",
    "    \"\"\"\n",
    "    Calcula a correlação entre duas colunas numéricas. O valor varia de -1 a 1.\n",
    "    \"\"\"\n",
    "    try:\n",
    "        correlation = df[[column_a, column_b]].corr().iloc[0, 1]\n",
    "        return f\"A correlação entre '{column_a}' e '{column_b}' é: {correlation:.4f}\"\n",
    "    except KeyError as e:\n",
    "        return f\"Erro: Uma das colunas não existe. Coluna não encontrada: {e}. Colunas disponíveis: {df.columns.tolist()}\"\n",
    "    except TypeError:\n",
    "        return f\"Erro: Uma ou ambas as colunas não são numéricas. Não é possível calcular a correlação.\"\n",
    "\n",
    "# Adicione esta função junto com as outras ferramentas simples\n",
    "\n",
    "@tool\n",
    "def python_repl(df: pd.DataFrame, code: str) -> str:\n",
    "    \"\"\"\n",
    "    Executa um código Python (especificamente pandas) em um DataFrame.\n",
    "    Use esta ferramenta para análises complexas, filtros, agregações ou qualquer\n",
    "    operação que não seja coberta pelas outras ferramentas simples.\n",
    "    O DataFrame está disponível como a variável 'df'.\n",
    "    O código deve ser uma única expressão que retorna um resultado (ex: df[df['coluna'] > 10]).\n",
    "    \"\"\"\n",
    "    try:\n",
    "        # Cria um ambiente seguro com acesso ao pandas (pd) e ao dataframe (df)\n",
    "        local_vars = {\"df\": df, \"pd\": pd}\n",
    "        # Executa o código usando eval, que é mais seguro por só avaliar expressões\n",
    "        result = eval(code, {\"__builtins__\": None}, local_vars)\n",
    "        return f\"Execução bem-sucedida. Resultado:\\n{str(result)}\"\n",
    "    except Exception as e:\n",
    "        return f\"Erro ao executar o código: {e}. Por favor, corrija o código e tente novamente.\"\n"
   ]
  },
  {
   "cell_type": "code",
   "execution_count": null,
   "id": "f86c25e1",
   "metadata": {},
   "outputs": [
    {
     "name": "stdout",
     "output_type": "stream",
     "text": [
      "DataFrame carregado com 26208 linhas e 359 colunas.\n"
     ]
    }
   ],
   "source": [
    "# MUDAR ESTA CÉLULA (ID: f86c25e1)\n",
    "\n",
    "import functools\n",
    "from langchain.tools import Tool\n",
    "from langchain_community.tools.tavily_search import TavilySearchResults\n",
    "\n",
    "# Garante que o DataFrame 'df' e as funções-ferramenta (get_column_names, etc.) já foram definidos nas células anteriores.\n",
    "# Supondo que 'tavily' também já foi definido.\n",
    "\n",
    "# Criamos a lista final de ferramentas executáveis.\n",
    "# Usamos functools.partial para \"pré-carregar\" o DataFrame 'df' em cada função.\n",
    "tools = [\n",
    "    tavily,\n",
    "    Tool(\n",
    "        name=\"get_column_names\",\n",
    "        func=functools.partial(get_column_names, df=df),\n",
    "        description=\"Retorna uma lista de todos os nomes de colunas do dataset.\"\n",
    "    ),\n",
    "    Tool(\n",
    "        name=\"summary_statistics\",\n",
    "        func=functools.partial(summary_statistics, df=df),\n",
    "        description=\"Calcula estatísticas descritivas para uma coluna numérica.\"\n",
    "    ),\n",
    "    Tool(\n",
    "        name=\"value_counts\",\n",
    "        func=functools.partial(value_counts, df=df),\n",
    "        description=\"Conta a frequência de valores em uma coluna categórica.\"\n",
    "    ),\n",
    "    Tool(\n",
    "        name=\"check_missing_values\",\n",
    "        func=functools.partial(check_missing_values, df=df),\n",
    "        description=\"Verifica valores nulos em uma coluna.\"\n",
    "    ),\n",
    "    Tool(\n",
    "        name=\"calculate_correlation\",\n",
    "        func=functools.partial(calculate_correlation, df=df),\n",
    "        description=\"Calcula a correlação entre duas colunas.\"\n",
    "    ),\n",
    "    Tool(\n",
    "        name=\"python_repl\",\n",
    "        func=functools.partial(python_repl, df=df),\n",
    "        description=\"Executa código Python genérico no DataFrame 'df' para análises complexas.\"\n",
    "    )\n",
    "]\n",
    "\n",
    "# As listas 'executable_tools' e 'tools_for_binding' não são mais necessárias.\n",
    "# Esta célula agora tem uma única responsabilidade: criar a lista 'tools'.\n",
    "print(f\"Lista de {len(tools)} ferramentas criada com sucesso.\")\n"
   ]
  },
  {
   "cell_type": "code",
   "execution_count": 47,
   "id": "4b6865f8",
   "metadata": {},
   "outputs": [],
   "source": [
    "chat_with_tools = chat.bind(functions=tools_for_binding)\n"
   ]
  },
  {
   "cell_type": "code",
   "execution_count": 48,
   "id": "42823171",
   "metadata": {},
   "outputs": [],
   "source": [
    "from typing import Annotated\n",
    "from typing_extensions import TypedDict\n",
    "from langgraph.graph import StateGraph, START, END, MessagesState\n",
    "from langgraph.graph.message import add_messages\n",
    "from langgraph.checkpoint.memory import MemorySaver\n",
    "from langgraph.prebuilt import ToolNode, tools_condition\n",
    "from langchain_core.prompts import ChatPromptTemplate, PromptTemplate\n",
    "from langchain_core.prompts import HumanMessagePromptTemplate\n",
    "from langchain.tools.render import render_text_description\n",
    "from langchain_core.messages import SystemMessage, HumanMessage, AIMessage"
   ]
  },
  {
   "cell_type": "code",
   "execution_count": 49,
   "id": "986c622b",
   "metadata": {},
   "outputs": [],
   "source": [
    "# ✅ Etapa 1: Definir o Estado do Grafo\n",
    "\n",
    "class State(TypedDict):\n",
    "    messages: Annotated[list, add_messages]\n",
    "\n",
    "graph_builder = StateGraph(State)"
   ]
  },
  {
   "cell_type": "code",
   "execution_count": null,
   "id": "49539695",
   "metadata": {},
   "outputs": [
    {
     "data": {
      "text/plain": [
       "<langgraph.graph.state.StateGraph at 0x29be19d3290>"
      ]
     },
     "execution_count": 50,
     "metadata": {},
     "output_type": "execute_result"
    }
   ],
   "source": [
    "from langgraph.prebuilt import ToolNode\n",
    "\n",
    "# Esta é a função 'chatbot' corrigida.\n",
    "def chatbot(state: State):\n",
    "    \"\"\"Nó que chama o LLM, garantindo que as instruções do sistema sejam incluídas.\"\"\"\n",
    "    print(\"---EXECUTANDO NÓ CHATBOT (COM INSTRUÇÕES)---\")\n",
    "    \n",
    "    # Associa as ferramentas ao modelo para esta chamada específica.\n",
    "    # A linha 'chat_with_tools = chat.bind(functions=tools_for_binding)' da célula 4b6865f8 não é mais necessária.\n",
    "    chat_with_tools = chat.bind_tools(tools)\n",
    "    \n",
    "    # AQUI ESTÁ A MÁGICA: Formata o histórico de mensagens usando seu template de regras.\n",
    "    prompt = primary_assistant_prompt.format_messages(**state)\n",
    "    \n",
    "    # Invoca o modelo com o prompt formatado (regras + conversa).\n",
    "    response = chat_with_tools.invoke(prompt)\n",
    "    \n",
    "    return {\"messages\": [response]}\n",
    "\n",
    "\n",
    "# O resto da célula continua como estava, adicionando os nós ao grafo.\n",
    "graph_builder.add_node(\"chatbot\", chatbot)\n",
    "\n",
    "tool_node = ToolNode(tools)\n",
    "graph_builder.add_node(\"tools\", tool_node)\n",
    "\n",
    "print(\"Nós 'chatbot' e 'tools' adicionados ao grafo.\")"
   ]
  },
  {
   "cell_type": "code",
   "execution_count": 51,
   "id": "d7dd5dea",
   "metadata": {},
   "outputs": [
    {
     "data": {
      "image/png": "[encoded data removed]",
      "text/plain": [
       "<IPython.core.display.Image object>"
      ]
     },
     "metadata": {},
     "output_type": "display_data"
    }
   ],
   "source": [
    "# ✅ Etapa 3: Criar o grafo\n",
    "\n",
    "graph_builder.add_edge(START, \"chatbot\")\n",
    "\n",
    "# chatbot --> tool    é o chatbot quem decide se vai empregar as ferramentas ou não\n",
    "graph_builder.add_conditional_edges(\"chatbot\", tools_condition)\n",
    "\n",
    "# tool ---> chatbot   uma vez que a ferramenta foi utilizada ela precisa retornar ao ll,\n",
    "graph_builder.add_edge(\"tools\", \"chatbot\")\n",
    "\n",
    "checkpointer=MemorySaver()\n",
    "# config = config = {\"configurable\": {\"thread_id\": \"1\"}}  # Uma thread_id para cada conversação\n",
    "\n",
    "config = {\n",
    "    \"configurable\": {\n",
    "        \"api_key\": \"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\",  # key da deepinfra ou \n",
    "        \"model\": \"deepseek-ai/DeepSeek-V3\",  # Your model\n",
    "        \"thread_id\": \"1\"  # Optional conversation tracking\n",
    "    }\n",
    "}\n",
    "\n",
    "graph = graph_builder.compile(checkpointer=checkpointer)\n",
    "\n",
    "from IPython.display import Image, display\n",
    "display(Image(graph.get_graph().draw_mermaid_png()))"
   ]
  },
  {
   "cell_type": "code",
   "execution_count": null,
   "id": "fcd24212",
   "metadata": {},
   "outputs": [
    {
     "ename": "SyntaxError",
     "evalue": "f-string: empty expression not allowed (29923883.py, line 77)",
     "output_type": "error",
     "traceback": [
      "  \u001b[36mCell\u001b[39m\u001b[36m \u001b[39m\u001b[32mIn[57]\u001b[39m\u001b[32m, line 77\u001b[39m\n\u001b[31m    \u001b[39m\u001b[31m\"\"\"\u001b[39m\n       ^\n\u001b[31mSyntaxError\u001b[39m\u001b[31m:\u001b[39m f-string: empty expression not allowed\n"
     ]
    }
   ],
   "source": [
    "# Tentando usar \"Iterative Refinement Prompting\" & \"Reasoning and Acting\"\n",
    "# Possíveis mudanças: usar mais \"Identity Prompting\"; aprender \"Meta Prompting\";  aumentar o \"Self-reflection Prompts\"; usar LLM para gerar o \"Iterative Refinement Prompting\"\n",
    "\n",
    "from langchain_core.prompts import ChatPromptTemplate, MessagesPlaceholder\n",
    "\n",
    "# Agora que 'tools' existe, podemos usá-la para gerar a descrição.\n",
    "tools_description = \"\\n\".join([f\"- **{tool.name}**: {tool.description}\" for tool in tools])\n",
    "\n",
    "react_template = f\"\"\"\n",
    "Você é um assistente de análise de dados. Você NÃO TEM acesso direto ao conteúdo do dataset. Sua ÚNICA maneira de obter informações sobre os dados é através do uso das ferramentas disponíveis.\n",
    "O dataset é um dataframe em pandas chamado \"df\".\n",
    "\n",
    "Você tem acesso às seguintes ferramentas:\n",
    "{tools_description}\n",
    "\n",
    "**NUNCA invente ou presuma nada sobre o dataset (nomes de colunas, valores, etc.). Se você não sabe algo, sua primeira ação DEVE ser usar uma ferramenta para descobrir. Para QUALQUER pergunta sobre o dataset, seu primeiro passo é quase sempre usar a ferramenta `get_column_names` para se orientar.**\n",
    "\n",
    "\n",
    "### REGRAS DE EXECUÇÃO\n",
    "1.  **Ciclo de Análise**: Você deve decompor o problema em passos. Para cada passo, você gerará um **Pensamento** e uma **Ação**. Sua resposta DEVE parar após o JSON da Ação.\n",
    "2.  **Análise da Observação**: Após sua ação, o sistema fornecerá uma **Observação**. Você DEVE analisar esta observação (seja um resultado ou um erro) para formular seu próximo Pensamento e Ação.\n",
    "3.  **Simplicidade das Ferramentas**: As ferramentas são simples. Elas NÃO aceitam filtros ou lógicas complexas no `action_input`. Se uma tarefa requer múltiplos passos (como filtrar por data e depois contar), você DEVE usar ferramentas em passos separados.\n",
    "4.  **Formato do Input**: O formato de `action_input` é CRÍTICO. Para ferramentas que pedem um nome de coluna (como `value_counts`), o input deve ser uma STRING SIMPLES (ex: `\"Minha_Coluna\"`), não um objeto JSON.\n",
    "\n",
    "### EXEMPLO DE CICLO DE CORREÇÃO (Seu Guia)\n",
    "\n",
    "Veja um exemplo de como reagir a um erro:\n",
    "\n",
    "Pergunta: Qual a distribuição da coluna 'Vendas'?\n",
    "Pensamento: A pergunta é sobre a coluna 'Vendas'. Vou usar a ferramenta `value_counts` para ver a distribuição dos valores.\n",
    "Ação:\n",
    "```json\n",
    "{{\n",
    "\"action\": \"value_counts\",\n",
    "\"action_input\": {{\n",
    "\"column_name\": \"Vendas\"\n",
    "}}\n",
    "}}\n",
    "```\n",
    "Observação: Erro: O input para 'value_counts' deve ser uma string, não um objeto.\n",
    "Pensamento: Ocorreu um erro. A observação diz que o action_input para value_counts deve ser uma string simples, mas eu enviei um objeto JSON. Além disso, não tenho certeza se 'Vendas' é o nome exato da coluna. Vou primeiro verificar todos os nomes de colunas disponíveis para ter certeza e depois tentarei chamar value_counts com o formato correto.\n",
    "Ação:\n",
    "```json\n",
    "{{\n",
    "\"action\": \"get_column_names\",\n",
    "\"action_input\": {{}}\n",
    "}}\n",
    "```\n",
    "Observação: ['Timestamp', 'Vendas_Totais', 'Regiao', 'ID_Produto']\n",
    "Pensamento: Agora vejo o nome correto da coluna é 'Vendas_Totais'. Vou chamar value_counts novamente, desta vez com o nome correto e no formato de string simples, como a primeira mensagem de erro instruiu.\n",
    "Ação:\n",
    "```json\n",
    "{{\n",
    "\"action\": \"value_counts\",\n",
    "\"action_input\": \"Vendas_Totais\"\n",
    "}}\n",
    "```\n",
    "Observação: [Resultado da ferramenta value_counts]\n",
    "Pensamento: Agora tenho a informação que preciso para responder.\n",
    "Resposta Final: A distribuição da coluna 'Vendas_Totais' é a seguinte...\n",
    "\n",
    "\n",
    "SEU TURNO\n",
    "Agora, siga o mesmo processo. Use o formato abaixo, parando sempre após a Ação.\n",
    "\n",
    "Formato:\n",
    "Pergunta: a pergunta de entrada que você deve responder\n",
    "Pensamento: ...\n",
    "Ação:\n",
    "```json\n",
    "{{\n",
    "\"action\": \"nome da ferramenta\",\n",
    "\"action_input\": \"entrada da ferramenta\"\n",
    "}}\n",
    "```\n",
    "\n",
    "\"\"\"\n",
    "primary_assistant_prompt = ChatPromptTemplate.from_messages(\n",
    "[\n",
    "(\"system\", react_template),\n",
    "MessagesPlaceholder(variable_name=\"messages\"),\n",
    "]\n",
    ")\n",
    "\n",
    "print(\"Prompt do assistente criado com sucesso.\")\n"
   ]
  },
  {
   "cell_type": "code",
   "execution_count": null,
   "id": "7008e378",
   "metadata": {},
   "outputs": [
    {
     "name": "stdout",
     "output_type": "stream",
     "text": [
      "\n",
      "Assistente:\n",
      "================================\u001b[1m Human Message \u001b[0m=================================\n",
      "\n",
      "descreva meu dataset\n",
      "---DEBUG: Última mensagem: None---\n",
      "\n",
      "Para descrever seu dataset com precisão, preciso de algumas informações básicas sobre ele. Aqui estão os aspectos principais que ajudariam a entender e descrever melhor seus dados:\n",
      "\n",
      "### 1. **Estrutura do Dataset**\n",
      "   - Quantas **linhas** (observações) e **colunas** (variáveis/atributos) o dataset possui?\n",
      "   - Qual o **tipo de dados** em cada coluna (numérico, categórico, texto, data, etc.)?\n",
      "\n",
      "### 2. **Contexto e Finalidade**\n",
      "   - Qual é o **contexto** dos dados? Por exemplo, são dados financeiros, de saúde, de vendas, de sensores, etc.?\n",
      "   - Qual é o **objetivo** ou uso do dataset (análise exploratória, modelagem preditiva, etc.)?\n",
      "\n",
      "### 3. **Origem dos Dados**\n",
      "   - De onde os dados foram coletados? Por exemplo, de uma pesquisa, API, banco de dados, web scraping, etc.\n",
      "   - Os dados são **públicos** ou **privados**?\n",
      "\n",
      "### 4. **Variáveis (Colunas)**\n",
      "   - Qu==================================\u001b[1m Ai Message \u001b[0m==================================\n",
      "\n",
      "Para descrever seu dataset com precisão, preciso de algumas informações básicas sobre ele. Aqui estão os aspectos principais que ajudariam a entender e descrever melhor seus dados:\n",
      "\n",
      "### 1. **Estrutura do Dataset**\n",
      "   - Quantas **linhas** (observações) e **colunas** (variáveis/atributos) o dataset possui?\n",
      "   - Qual o **tipo de dados** em cada coluna (numérico, categórico, texto, data, etc.)?\n",
      "\n",
      "### 2. **Contexto e Finalidade**\n",
      "   - Qual é o **contexto** dos dados? Por exemplo, são dados financeiros, de saúde, de vendas, de sensores, etc.?\n",
      "   - Qual é o **objetivo** ou uso do dataset (análise exploratória, modelagem preditiva, etc.)?\n",
      "\n",
      "### 3. **Origem dos Dados**\n",
      "   - De onde os dados foram coletados? Por exemplo, de uma pesquisa, API, banco de dados, web scraping, etc.\n",
      "   - Os dados são **públicos** ou **privados**?\n",
      "\n",
      "### 4. **Variáveis (Colunas)**\n",
      "   - Qu\n",
      "---DEBUG: Última mensagem: None---\n",
      "\n",
      "\n",
      "==================================================\n",
      "\n",
      "\n",
      "Assistente:\n",
      "================================\u001b[1m Human Message \u001b[0m=================================\n",
      "\n",
      "\n",
      "---DEBUG: Última mensagem: None---\n",
      "\n",
      "Para descrever seu dataset, aqui está um exemplo de como você pode estruturar a descrição com base em informações gerais. Se você fornecer mais detalhes específicos, poderei ajustar a descrição conforme necessário.\n",
      "\n",
      "---\n",
      "\n",
      "### Descrição do Dataset\n",
      "\n",
      "#### 1. **Estrutura Geral**\n",
      "   - O dataset contém **X linhas** (observações) e **Y colunas** (variáveis/atributos).\n",
      "   - Os tipos de dados nas colunas incluem:\n",
      "     - **Numéricos**: Variáveis contínuas ou discretas (por exemplo, idade, preço, quantidade).\n",
      "     - **Categóricos**: Variáveis que representam categorias ou grupos (por exemplo, gênero, país, status).\n",
      "     - **Textuais**: Dados de texto livre ou descritivo.\n",
      "     - **Datas/Tempos**: Variáveis relacionadas a datas ou horários.\n",
      "\n",
      "#### 2. **Contexto e Objetivo**\n",
      "   - O dataset foi coletado com o propósito de **{descrever o objetivo}** (por exemplo, análise de vendas, previsão de desempenho, estudo demográfico).\n",
      "   - O contexto dos==================================\u001b[1m Ai Message \u001b[0m==================================\n",
      "\n",
      "Para descrever seu dataset, aqui está um exemplo de como você pode estruturar a descrição com base em informações gerais. Se você fornecer mais detalhes específicos, poderei ajustar a descrição conforme necessário.\n",
      "\n",
      "---\n",
      "\n",
      "### Descrição do Dataset\n",
      "\n",
      "#### 1. **Estrutura Geral**\n",
      "   - O dataset contém **X linhas** (observações) e **Y colunas** (variáveis/atributos).\n",
      "   - Os tipos de dados nas colunas incluem:\n",
      "     - **Numéricos**: Variáveis contínuas ou discretas (por exemplo, idade, preço, quantidade).\n",
      "     - **Categóricos**: Variáveis que representam categorias ou grupos (por exemplo, gênero, país, status).\n",
      "     - **Textuais**: Dados de texto livre ou descritivo.\n",
      "     - **Datas/Tempos**: Variáveis relacionadas a datas ou horários.\n",
      "\n",
      "#### 2. **Contexto e Objetivo**\n",
      "   - O dataset foi coletado com o propósito de **{descrever o objetivo}** (por exemplo, análise de vendas, previsão de desempenho, estudo demográfico).\n",
      "   - O contexto dos\n",
      "---DEBUG: Última mensagem: None---\n",
      "\n",
      "\n",
      "==================================================\n",
      "\n"
     ]
    },
    {
     "ename": "KeyboardInterrupt",
     "evalue": "Interrupted by user",
     "output_type": "error",
     "traceback": [
      "\u001b[31m---------------------------------------------------------------------------\u001b[39m",
      "\u001b[31mKeyboardInterrupt\u001b[39m                         Traceback (most recent call last)",
      "\u001b[36mCell\u001b[39m\u001b[36m \u001b[39m\u001b[32mIn[55]\u001b[39m\u001b[32m, line 3\u001b[39m\n\u001b[32m      1\u001b[39m \u001b[38;5;66;03m# Use um loop para conversar continuamente\u001b[39;00m\n\u001b[32m      2\u001b[39m \u001b[38;5;28;01mwhile\u001b[39;00m \u001b[38;5;28;01mTrue\u001b[39;00m:\n\u001b[32m----> \u001b[39m\u001b[32m3\u001b[39m     user_input = \u001b[38;5;28;43minput\u001b[39;49m\u001b[43m(\u001b[49m\u001b[33;43m\"\u001b[39;49m\u001b[33;43mVocê: \u001b[39;49m\u001b[33;43m\"\u001b[39;49m\u001b[43m)\u001b[49m\n\u001b[32m      4\u001b[39m     \u001b[38;5;28;01mif\u001b[39;00m user_input.lower() \u001b[38;5;129;01min\u001b[39;00m [\u001b[33m\"\u001b[39m\u001b[33mquit\u001b[39m\u001b[33m\"\u001b[39m, \u001b[33m\"\u001b[39m\u001b[33mexit\u001b[39m\u001b[33m\"\u001b[39m]:\n\u001b[32m      5\u001b[39m         \u001b[38;5;28;01mbreak\u001b[39;00m\n",
      "\u001b[36mFile \u001b[39m\u001b[32mc:\\Users\\Gabriel\\OneDrive\\UFMG\\IC\\agenteiadp\\.venv\\Lib\\site-packages\\ipykernel\\kernelbase.py:1282\u001b[39m, in \u001b[36mKernel.raw_input\u001b[39m\u001b[34m(self, prompt)\u001b[39m\n\u001b[32m   1280\u001b[39m     msg = \u001b[33m\"\u001b[39m\u001b[33mraw_input was called, but this frontend does not support input requests.\u001b[39m\u001b[33m\"\u001b[39m\n\u001b[32m   1281\u001b[39m     \u001b[38;5;28;01mraise\u001b[39;00m StdinNotImplementedError(msg)\n\u001b[32m-> \u001b[39m\u001b[32m1282\u001b[39m \u001b[38;5;28;01mreturn\u001b[39;00m \u001b[38;5;28;43mself\u001b[39;49m\u001b[43m.\u001b[49m\u001b[43m_input_request\u001b[49m\u001b[43m(\u001b[49m\n\u001b[32m   1283\u001b[39m \u001b[43m    \u001b[49m\u001b[38;5;28;43mstr\u001b[39;49m\u001b[43m(\u001b[49m\u001b[43mprompt\u001b[49m\u001b[43m)\u001b[49m\u001b[43m,\u001b[49m\n\u001b[32m   1284\u001b[39m \u001b[43m    \u001b[49m\u001b[38;5;28;43mself\u001b[39;49m\u001b[43m.\u001b[49m\u001b[43m_parent_ident\u001b[49m\u001b[43m[\u001b[49m\u001b[33;43m\"\u001b[39;49m\u001b[33;43mshell\u001b[39;49m\u001b[33;43m\"\u001b[39;49m\u001b[43m]\u001b[49m\u001b[43m,\u001b[49m\n\u001b[32m   1285\u001b[39m \u001b[43m    \u001b[49m\u001b[38;5;28;43mself\u001b[39;49m\u001b[43m.\u001b[49m\u001b[43mget_parent\u001b[49m\u001b[43m(\u001b[49m\u001b[33;43m\"\u001b[39;49m\u001b[33;43mshell\u001b[39;49m\u001b[33;43m\"\u001b[39;49m\u001b[43m)\u001b[49m\u001b[43m,\u001b[49m\n\u001b[32m   1286\u001b[39m \u001b[43m    \u001b[49m\u001b[43mpassword\u001b[49m\u001b[43m=\u001b[49m\u001b[38;5;28;43;01mFalse\u001b[39;49;00m\u001b[43m,\u001b[49m\n\u001b[32m   1287\u001b[39m \u001b[43m\u001b[49m\u001b[43m)\u001b[49m\n",
      "\u001b[36mFile \u001b[39m\u001b[32mc:\\Users\\Gabriel\\OneDrive\\UFMG\\IC\\agenteiadp\\.venv\\Lib\\site-packages\\ipykernel\\kernelbase.py:1325\u001b[39m, in \u001b[36mKernel._input_request\u001b[39m\u001b[34m(self, prompt, ident, parent, password)\u001b[39m\n\u001b[32m   1322\u001b[39m \u001b[38;5;28;01mexcept\u001b[39;00m \u001b[38;5;167;01mKeyboardInterrupt\u001b[39;00m:\n\u001b[32m   1323\u001b[39m     \u001b[38;5;66;03m# re-raise KeyboardInterrupt, to truncate traceback\u001b[39;00m\n\u001b[32m   1324\u001b[39m     msg = \u001b[33m\"\u001b[39m\u001b[33mInterrupted by user\u001b[39m\u001b[33m\"\u001b[39m\n\u001b[32m-> \u001b[39m\u001b[32m1325\u001b[39m     \u001b[38;5;28;01mraise\u001b[39;00m \u001b[38;5;167;01mKeyboardInterrupt\u001b[39;00m(msg) \u001b[38;5;28;01mfrom\u001b[39;00m\u001b[38;5;250m \u001b[39m\u001b[38;5;28;01mNone\u001b[39;00m\n\u001b[32m   1326\u001b[39m \u001b[38;5;28;01mexcept\u001b[39;00m \u001b[38;5;167;01mException\u001b[39;00m:\n\u001b[32m   1327\u001b[39m     \u001b[38;5;28mself\u001b[39m.log.warning(\u001b[33m\"\u001b[39m\u001b[33mInvalid Message:\u001b[39m\u001b[33m\"\u001b[39m, exc_info=\u001b[38;5;28;01mTrue\u001b[39;00m)\n",
      "\u001b[31mKeyboardInterrupt\u001b[39m: Interrupted by user"
     ]
    }
   ],
   "source": [
    "from langchain_core.messages import HumanMessage, AIMessage, BaseMessage\n",
    "\n",
    "# Usar um novo thread_id para garantir que a conversa comece do zero com a nova lógica.\n",
    "config = {\"configurable\": {\"thread_id\": \"conversa_final_corrigida\"}} \n",
    "\n",
    "while True:\n",
    "    try:\n",
    "        user_input = input(\"Você: \")\n",
    "        if user_input.lower() in [\"quit\", \"exit\", \"sair\"]:\n",
    "            print(\"Encerrando a conversa.\")\n",
    "            break\n",
    "\n",
    "        inputs = {\"messages\": [HumanMessage(content=user_input)]}\n",
    "\n",
    "        print(\"\\nAssistente:\")\n",
    "        for output in graph.stream(inputs, config=config, stream_mode=\"values\"):\n",
    "            last_message: BaseMessage = output[\"messages\"][-1]\n",
    "            \n",
    "            if isinstance(last_message, AIMessage) and last_message.tool_calls:\n",
    "                tool_call = last_message.tool_calls[0]\n",
    "                print(f\"⚙️  Pensando... Vou usar a ferramenta `{tool_call['name']}` com os argumentos: {tool_call['args']}\")\n",
    "\n",
    "            elif isinstance(last_message, AIMessage) and last_message.content:\n",
    "                print(f\"🤖  {last_message.content}\")\n",
    "\n",
    "        print(\"\\n\" + \"=\"*50 + \"\\n\")\n",
    "    except KeyboardInterrupt:\n",
    "        print(\"\\nConversa interrompida.\")\n",
    "        break"
   ]
  },
  {
   "cell_type": "code",
   "execution_count": 95,
   "id": "e53543a3",
   "metadata": {},
   "outputs": [],
   "source": [
    "# ✅ Etapa 5: Conversar com o agente\n",
    "estado = graph.invoke({\"messages\": prompt.format_messages(question = \"Oi, como é nosso dataset?\")}, config) # Teste com uma pergunta onde o agente precisa usar apenas 1 tool."
   ]
  },
  {
   "cell_type": "code",
   "execution_count": 98,
   "id": "bd784ecd",
   "metadata": {},
   "outputs": [
    {
     "data": {
      "text/plain": [
       "'Pensamento: Para entender melhor o dataset, primeiro preciso saber quais colunas estão disponíveis. Vou usar a ferramenta `get_column_names` para obter a lista de colunas.\\n\\nAção:\\n```json\\n{\\n\"action\": \"get_column_names\",\\n\"action_input\": {}\\n}\\n```'"
      ]
     },
     "execution_count": 98,
     "metadata": {},
     "output_type": "execute_result"
    }
   ],
   "source": [
    "estado[\"messages\"][-1].content"
   ]
  },
  {
   "cell_type": "code",
   "execution_count": 24,
   "id": "e64c9534",
   "metadata": {},
   "outputs": [],
   "source": [
    "estado = graph.invoke({\"messages\": prompt.format_messages(question = \"Qual a temperatura de São Paulo hoje e escreva a resposta em maiúsculo\")}, config) # Teste com uma pergunta onde o agente precisa usar 2 tools."
   ]
  },
  {
   "cell_type": "code",
   "execution_count": 25,
   "id": "71a9f3c4",
   "metadata": {},
   "outputs": [
    {
     "data": {
      "text/plain": [
       "'Pergunta: Qual a temperatura de São Paulo hoje e escreva a resposta em maiúsculo?\\n\\nPensamento: Tentei responder frequentemente, mas a busca anterior não retornou resultados relevantes. Vou tentar novamente.\\n\\nAção:\\n<function=tavily_search_results_json>{\"query\": \"temperatura em São Paulo atuais\"}'"
      ]
     },
     "execution_count": 25,
     "metadata": {},
     "output_type": "execute_result"
    }
   ],
   "source": [
    "estado[\"messages\"][-1].content"
   ]
  },
  {
   "cell_type": "code",
   "execution_count": 26,
   "id": "4cd72afc",
   "metadata": {},
   "outputs": [],
   "source": [
    "estado = graph.invoke({\"messages\": prompt.format_messages(question = \"Quanto é 5+5\")}, config) # Teste com uma pergunta onde o agente não precisa usar nenhuma tool."
   ]
  },
  {
   "cell_type": "code",
   "execution_count": 27,
   "id": "d8636a66",
   "metadata": {},
   "outputs": [
    {
     "data": {
      "text/plain": [
       "'Pergunta: Quanto é 5+5\\n\\nPensamento: Eu sei essa resposta pela cabeça!\\n\\nResposta Final: 10'"
      ]
     },
     "execution_count": 27,
     "metadata": {},
     "output_type": "execute_result"
    }
   ],
   "source": [
    "estado[\"messages\"][-1].content"
   ]
  }
 ],
 "metadata": {
  "kernelspec": {
   "display_name": "agenteiadp",
   "language": "python",
   "name": "python3"
  },
  "language_info": {
   "codemirror_mode": {
    "name": "ipython",
    "version": 3
   },
   "file_extension": ".py",
   "mimetype": "text/x-python",
   "name": "python",
   "nbconvert_exporter": "python",
   "pygments_lexer": "ipython3",
   "version": "3.11.4"
  }
 },
 "nbformat": 4,
 "nbformat_minor": 5
}
