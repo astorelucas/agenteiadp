{
 "cells": [
  {
   "cell_type": "markdown",
   "id": "81925204",
   "metadata": {},
   "source": [
    "## Testando Prompt (usando classe nas tools)"
   ]
  },
  {
   "cell_type": "markdown",
   "id": "f09fdef3",
   "metadata": {},
   "source": [
    "### Tokens e imports"
   ]
  },
  {
   "cell_type": "code",
   "execution_count": 2,
   "id": "6029158f",
   "metadata": {},
   "outputs": [],
   "source": [
    "import os\n",
    "from getpass import getpass\n",
    "\n",
    "os.environ[\"DEEPINFRA_API_TOKEN\"] = getpass(\"Digite sua chave da DeepInfra: \")"
   ]
  },
  {
   "cell_type": "code",
   "execution_count": 3,
   "id": "9450b8ab",
   "metadata": {},
   "outputs": [],
   "source": [
    "\n",
    "from langchain_community.chat_models import ChatDeepInfra\n",
    "from langchain_core.messages import HumanMessage, SystemMessage, AIMessage\n",
    "\n",
    "chat = ChatDeepInfra(model=\"deepseek-ai/DeepSeek-V3\") \n"
   ]
  },
  {
   "cell_type": "code",
   "execution_count": null,
   "id": "43e569a0",
   "metadata": {},
   "outputs": [],
   "source": [
    "from getpass import getpass\n",
    "\n",
    "os.environ[\"TAVILY_API_KEY\"] = getpass(\"Digite sua chave do Travily: \")\n",
    "#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"
   ]
  },
  {
   "cell_type": "code",
   "execution_count": 5,
   "id": "88238c7c",
   "metadata": {},
   "outputs": [
    {
     "name": "stderr",
     "output_type": "stream",
     "text": [
      "C:\\Users\\Gabriel\\AppData\\Local\\Temp\\ipykernel_18060\\3558227869.py:3: LangChainDeprecationWarning: The class `TavilySearchResults` was deprecated in LangChain 0.3.25 and will be removed in 1.0. An updated version of the class exists in the :class:`~langchain-tavily package and should be used instead. To use it run `pip install -U :class:`~langchain-tavily` and import as `from :class:`~langchain_tavily import TavilySearch``.\n",
      "  tavily = TavilySearchResults(max_results=2)\n"
     ]
    },
    {
     "name": "stdout",
     "output_type": "stream",
     "text": [
      "[{'title': 'Previsão do tempo e clima para hoje em Belo Horizonte - MG', 'url': 'https://www.climatempo.com.br/previsao-do-tempo/cidade/107/belohorizonte-mg', 'content': 'Tempo agora\\n\\nSatélite\\nChuva Agora\\n\\n## Qual a previsão do tempo para hoje em Belo Horizonte - MG?\\n\\nA previsão do tempo para hoje é de temperaturas entre 13° e 24° e sem possibilidade de chuva em Belo Horizonte - MG.\\n\\n## Qual a temperatura de hoje em Belo Horizonte - MG?\\n\\nA temperatura máxima é de 24° hoje em Belo Horizonte - MG.\\n\\n## Como é o clima em Belo Horizonte - MG no mês de julho? Qual a média mensal de chuva? [...] ### Alerta de chuva forte e volumosa no litoral de SP e do RJ Mais detalhes\\n\\n### Alerta de chuva forte e volumosa no litoral de SP e do RJ Mais detalhes\\n\\n Agora\\n Hoje\\n Amanhã\\n Fim de semana\\n 15 dias\\n Histórico de dados\\n\\n# Previsão para Hoje 02/07 Belo Horizonte - MG\\n\\nHoje\\nserá\\nparecido com ontem\\n\\n  \\nDia de sol, com muitas nuvens à tarde. À noite a nebulosidade diminui.\\n\\nMadrugada\\n\\nManhã\\n\\nTarde\\n\\nNoite\\n\\n Temperatura\\n\\n  13°\\n  24°\\n Chuva\\n\\n  0.0mm -\\n  0%\\n Vento\\n\\n  SE/E\\n  -\\n  7km/h\\n Umidade\\n\\n  47%', 'score': 0.9014448}, {'title': 'Previsão do Tempo em Belo Horizonte - MG | Hoje e Amanhã', 'url': 'https://www.otempo.com.br/tempo/belo-horizonte-mg', 'content': '## INMET emite alerta amarelo de baixa umidade com risco de incêndios em Peixoto de Azevedo e Região até quarta-feira (2)\\n Baixa Umidade\\n\\n  ## INMET emite alerta amarelo de baixa umidade com risco de incêndios em Catalão e Região até quarta-feira (2)\\n\\nVer todos os alertas\\n\\n# Previsão do tempo para hoje em Belo Horizonte/MG\\n\\nQuarta, 02 de Julho\\n\\nBelo Horizonte - MG\\n\\n24°\\nParcialmente encoberto\\n\\n16\\n\\n24°\\n\\n18\\n\\n21°\\n\\n20\\n\\n18°\\n\\n22\\n\\n16°\\n\\n0\\n\\n15°\\n\\n2\\n\\n14°\\n\\n4\\n\\n14°\\n\\nSensação\\n\\n24°C\\n\\nUmidade\\n\\n42%\\n\\nRaio UV\\n\\n1 [...] 12\\n\\n22°\\n\\n14\\n\\n24°\\n\\n16\\n\\n23°\\n\\n18\\n\\n20°\\n\\nSensação\\n\\n24°C\\n\\nUmidade\\n\\n47%\\n\\nRaio UV\\n\\n6\\n\\nVentos\\n\\n5km/h\\n\\n## Próximos dias\\n\\n ### Amanhã\\n\\n  3 de julho\\n\\n  Min\\n  13º\\n\\n  Max\\n  23º\\n ### Sexta\\n\\n  4 de julho\\n\\n  Min\\n  13º\\n\\n  Max\\n  22º\\n ### Sábado\\n\\n  5 de julho\\n\\n  Min\\n  12º\\n\\n  Max\\n  23º\\n ### Domingo\\n\\n  6 de julho\\n\\n  Min\\n  11º\\n\\n  Max\\n  24º\\n ### Segunda\\n\\n  7 de julho\\n\\n  Min\\n  11º\\n\\n  Max\\n  23º\\n ### Terça\\n\\n  8 de julho\\n\\n  Min\\n  10º\\n\\n  Max\\n  23º\\n ### Quarta\\n\\n  9 de julho\\n\\n  Min\\n  12º\\n\\n  Max\\n  23º\\n\\n---\\n\\n UBERLNDIA [...] Ventos\\n\\n10km/h\\n\\n## Quinta\\n\\n03 de Julho\\n\\nBelo Horizonte - MG\\n\\n23°\\nPredominantemente limpo\\n\\n6\\n\\n13°\\n\\n8\\n\\n15°\\n\\n10\\n\\n19°\\n\\n12\\n\\n22°\\n\\n14\\n\\n23°\\n\\n16\\n\\n22°\\n\\n18\\n\\n20°\\n\\nSensação\\n\\n23°C\\n\\nUmidade\\n\\n56%\\n\\nRaio UV\\n\\n6\\n\\nVentos\\n\\n9km/h\\n\\n## Sábado\\n\\n05 de Julho\\n\\nBelo Horizonte - MG\\n\\n23°\\nPredominantemente limpo\\n\\n6\\n\\n12°\\n\\n8\\n\\n14°\\n\\n10\\n\\n19°\\n\\n12\\n\\n22°\\n\\n14\\n\\n23°\\n\\n16\\n\\n23°\\n\\n18\\n\\n19°\\n\\nSensação\\n\\n23°C\\n\\nUmidade\\n\\n52%\\n\\nRaio UV\\n\\n6\\n\\nVentos\\n\\n6km/h\\n\\n## Domingo\\n\\n06 de Julho\\n\\nBelo Horizonte - MG\\n\\n24°\\nPredominantemente limpo\\n\\n6\\n\\n11°\\n\\n8\\n\\n14°\\n\\n10\\n\\n19°', 'score': 0.86052185}]\n"
     ]
    }
   ],
   "source": [
    "from langchain_community.tools.tavily_search import TavilySearchResults\n",
    "\n",
    "tavily = TavilySearchResults(max_results=2)\n",
    "search_results = tavily.invoke(\"Qual a temperatura na cidade de Belo Horizonte hoje?\")\n",
    "print(search_results)"
   ]
  },
  {
   "cell_type": "markdown",
   "id": "05063302",
   "metadata": {},
   "source": [
    "### Definindo Tools\n",
    "Aqui eu tentei com classes. \n",
    "PROBLEMA: o agente buga ao tentar chamar esses métodos, dá uns bugs com o 'self'"
   ]
  },
  {
   "cell_type": "code",
   "execution_count": 7,
   "id": "3f4a4088",
   "metadata": {},
   "outputs": [],
   "source": [
    "import pandas as pd\n",
    "from langchain.agents import tool\n",
    "\n",
    "\n",
    "class CSVAnalysisTools:\n",
    "    def __init__(self, path: str):\n",
    "        if not os.path.exists(path):\n",
    "            raise FileNotFoundError(f\"O arquivo não foi encontrado em: {path}\")\n",
    "        self.df = pd.read_csv(path)\n",
    "        print(f\"DataFrame carregado com {self.df.shape[0]} linhas e {self.df.shape[1]} colunas.\")\n",
    "\n",
    "    @tool(\"get_column_names\")\n",
    "    def get_column_names(self) -> str:\n",
    "        \"\"\"\n",
    "        Retorna uma lista com todos os nomes das colunas do dataset.\n",
    "        Útil para saber quais colunas estão disponíveis para análise.\n",
    "        \"\"\"\n",
    "        return str(self.df.columns.tolist())\n",
    "\n",
    "    @tool(\"summary_statistics\")\n",
    "    def summary_statistics(self, column_name: str) -> str:\n",
    "        \"\"\"\n",
    "        Calcula estatísticas descritivas para uma coluna numérica específica.\n",
    "        Retorna média, desvio padrão, mínimo, máximo e os quartis.\n",
    "        \"\"\"\n",
    "        try:\n",
    "            return self.df[column_name].describe().to_string()\n",
    "        except KeyError:\n",
    "            return f\"Erro: A coluna '{column_name}' não existe. Colunas disponíveis: {self.df.columns.tolist()}\"\n",
    "        except TypeError:\n",
    "            return f\"Erro: A coluna '{column_name}' não parece ser numérica. Tente usar 'value_counts'.\"\n",
    "\n",
    "    @tool(\"value_counts\")\n",
    "    def value_counts(self, column_name: str) -> str:\n",
    "        \"\"\"\n",
    "        Conta a frequência de cada valor único em uma coluna categórica.\n",
    "        \"\"\"\n",
    "        try:\n",
    "            return self.df[column_name].value_counts().to_string()\n",
    "        except KeyError:\n",
    "            return f\"Erro: A coluna '{column_name}' não existe. Colunas disponíveis: {self.df.columns.tolist()}\"\n",
    "\n",
    "    @tool(\"check_missing_values\")\n",
    "    def check_missing_values(self, column_name: str) -> str:\n",
    "        \"\"\"\n",
    "        Verifica e conta a quantidade de valores nulos (NaN) em uma coluna específica.\n",
    "        \"\"\"\n",
    "        try:\n",
    "            missing_count = self.df[column_name].isnull().sum()\n",
    "            return f\"A coluna '{column_name}' tem {missing_count} valores faltantes.\"\n",
    "        except KeyError:\n",
    "            return f\"Erro: A coluna '{column_name}' não existe. Colunas disponíveis: {self.df.columns.tolist()}\"\n",
    "\n",
    "    @tool(\"calculate_correlation\")\n",
    "    def calculate_correlation(self, column_a: str, column_b: str) -> str:\n",
    "        \"\"\"\n",
    "        Calcula a correlação entre duas colunas numéricas. O valor varia de -1 a 1.\n",
    "        \"\"\"\n",
    "        try:\n",
    "            correlation = self.df[[column_a, column_b]].corr().iloc[0, 1]\n",
    "            return f\"A correlação entre '{column_a}' e '{column_b}' é: {correlation:.4f}\"\n",
    "        except KeyError as e:\n",
    "            return f\"Erro: Uma das colunas não existe. Coluna não encontrada: {e}. Colunas disponíveis: {self.df.columns.tolist()}\"\n",
    "        except TypeError:\n",
    "            return f\"Erro: Uma ou ambas as colunas não são numéricas. Não é possível calcular a correlação.\"\n"
   ]
  },
  {
   "cell_type": "code",
   "execution_count": 8,
   "id": "f86c25e1",
   "metadata": {},
   "outputs": [
    {
     "name": "stdout",
     "output_type": "stream",
     "text": [
      "DataFrame carregado com 26208 linhas e 359 colunas.\n"
     ]
    }
   ],
   "source": [
    "analysis_tool_suite = CSVAnalysisTools(path=\"./datasets/pems03.csv\")\n",
    "\n",
    "tools = [tavily, \n",
    "        analysis_tool_suite.get_column_names,\n",
    "        analysis_tool_suite.summary_statistics,\n",
    "        analysis_tool_suite.value_counts,\n",
    "        analysis_tool_suite.check_missing_values,\n",
    "        analysis_tool_suite.calculate_correlation]"
   ]
  },
  {
   "cell_type": "code",
   "execution_count": 9,
   "id": "4b6865f8",
   "metadata": {},
   "outputs": [],
   "source": [
    "chat_with_tools = chat.bind_tools(tools)"
   ]
  },
  {
   "cell_type": "code",
   "execution_count": 10,
   "id": "42823171",
   "metadata": {},
   "outputs": [],
   "source": [
    "from typing import Annotated\n",
    "from typing_extensions import TypedDict\n",
    "from langgraph.graph import StateGraph, START, END, MessagesState\n",
    "from langgraph.graph.message import add_messages\n",
    "from langgraph.checkpoint.memory import MemorySaver\n",
    "from langgraph.prebuilt import ToolNode, tools_condition\n",
    "from langchain_core.prompts import ChatPromptTemplate, PromptTemplate\n",
    "from langchain_core.prompts import HumanMessagePromptTemplate\n",
    "from langchain.tools.render import render_text_description\n",
    "from langchain_core.messages import SystemMessage, HumanMessage, AIMessage"
   ]
  },
  {
   "cell_type": "markdown",
   "id": "68cf04ac",
   "metadata": {},
   "source": [
    "### Definições LangChain"
   ]
  },
  {
   "cell_type": "code",
   "execution_count": null,
   "id": "986c622b",
   "metadata": {},
   "outputs": [],
   "source": [
    "class State(TypedDict):\n",
    "    messages: Annotated[list, add_messages]\n",
    "\n",
    "graph_builder = StateGraph(State)"
   ]
  },
  {
   "cell_type": "code",
   "execution_count": 12,
   "id": "49539695",
   "metadata": {},
   "outputs": [
    {
     "data": {
      "text/plain": [
       "<langgraph.graph.state.StateGraph at 0x2459b86fa10>"
      ]
     },
     "execution_count": 12,
     "metadata": {},
     "output_type": "execute_result"
    }
   ],
   "source": [
    "# ✅ Etapa 2: Definir os nós\n",
    "\n",
    "def chatbot(state: State):                              # RECEBE UM STATE COMO PARÂMETRO\n",
    "    return {\"messages\": [chat_with_tools.invoke(state[\"messages\"])]}\n",
    "\n",
    "graph_builder.add_node(\"chatbot\", chatbot)              # ADICIONA A ATIVIDADE AO GRAFO\n",
    "\n",
    "tool_node = ToolNode(tools=tools)\n",
    "\n",
    "graph_builder.add_node(\"tools\", tool_node)"
   ]
  },
  {
   "cell_type": "code",
   "execution_count": 13,
   "id": "d7dd5dea",
   "metadata": {},
   "outputs": [
    {
     "data": {
      "image/png": "[encoded data removed]",
      "text/plain": [
       "<IPython.core.display.Image object>"
      ]
     },
     "metadata": {},
     "output_type": "display_data"
    }
   ],
   "source": [
    "# ✅ Etapa 3: Criar o grafo\n",
    "\n",
    "graph_builder.add_edge(START, \"chatbot\")\n",
    "\n",
    "# chatbot --> tool    é o chatbot quem decide se vai empregar as ferramentas ou não\n",
    "graph_builder.add_conditional_edges(\"chatbot\", tools_condition)\n",
    "\n",
    "# tool ---> chatbot   uma vez que a ferramenta foi utilizada ela precisa retornar ao ll,\n",
    "graph_builder.add_edge(\"tools\", \"chatbot\")\n",
    "\n",
    "checkpointer=MemorySaver()\n",
    "# config = config = {\"configurable\": {\"thread_id\": \"1\"}}  # Uma thread_id para cada conversação\n",
    "\n",
    "config = {\n",
    "    \"configurable\": {\n",
    "        \"api_key\": \"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\",  # key da deepinfra ou \n",
    "        \"model\": \"deepseek-ai/DeepSeek-V3\",  # Your model\n",
    "        \"thread_id\": \"1\"  # Optional conversation tracking\n",
    "    }\n",
    "}\n",
    "\n",
    "graph = graph_builder.compile(checkpointer=checkpointer)\n",
    "\n",
    "from IPython.display import Image, display\n",
    "display(Image(graph.get_graph().draw_mermaid_png()))"
   ]
  },
  {
   "cell_type": "markdown",
   "id": "6181c141",
   "metadata": {},
   "source": [
    "### Agent Prompting\n",
    "Essa é a parte que estou focando. Estou tentando usar \"Iterative Refinement Prompting\" & \"Reasoning and Acting\"\n",
    "\n",
    "Possíveis melhorias: usar mais Identity Prompting (mais de uma persona pode ser bom); aprender \"Meta Prompting\";  aumentar o \"Self-reflection Prompts\"; usar LLM para gerar o \"Iterative Refinement Prompting\"\n"
   ]
  },
  {
   "cell_type": "code",
   "execution_count": null,
   "id": "fcd24212",
   "metadata": {},
   "outputs": [],
   "source": [
    "\n",
    "react_template = \"\"\"\n",
    "Você é um analista de dados especialista em Análise Exploratória de Dados (EDA), com foco principal em datasets de séries temporais. Sua tarefa é usar as ferramentas disponíveis para extrair insights valiosos e responder às perguntas do usuário, seguindo um ciclo rigoroso de raciocínio.\n",
    "\n",
    "Você tem acesso às seguintes ferramentas:\n",
    "{tools}\n",
    "\n",
    "### REGRAS DE EXECUÇÃO\n",
    "1.  **Ciclo de Análise**: Você deve decompor o problema em passos. Para cada passo, você gerará um **Pensamento** e uma **Ação**. Sua resposta DEVE parar após o JSON da Ação.\n",
    "2.  **Análise da Observação**: Após sua ação, o sistema fornecerá uma **Observação**. Você DEVE analisar esta observação (seja um resultado ou um erro) para formular seu próximo Pensamento e Ação.\n",
    "3.  **Simplicidade das Ferramentas**: As ferramentas são simples. Elas NÃO aceitam filtros ou lógicas complexas no `action_input`. Se uma tarefa requer múltiplos passos (como filtrar por data e depois contar), você DEVE usar ferramentas em passos separados.\n",
    "4.  **Formato do Input**: O formato de `action_input` é CRÍTICO. Para ferramentas que pedem um nome de coluna (como `value_counts`), o input deve ser uma STRING SIMPLES (ex: `\"Minha_Coluna\"`), não um objeto JSON.\n",
    "\n",
    "### EXEMPLO DE CICLO DE CORREÇÃO (Seu Guia)\n",
    "\n",
    "Veja um exemplo de como reagir a um erro:\n",
    "\n",
    "Pergunta: Qual a distribuição da coluna 'Vendas'?\n",
    "Pensamento: A pergunta é sobre a coluna 'Vendas'. Vou usar a ferramenta `value_counts` para ver a distribuição dos valores.\n",
    "Ação:\n",
    "```json\n",
    "{\n",
    "\"action\": \"value_counts\",\n",
    "\"action_input\": {\n",
    "\"column_name\": \"Vendas\"\n",
    "}\n",
    "}\n",
    "```\n",
    "Observação: Erro: O input para 'value_counts' deve ser uma string, não um objeto.\n",
    "Pensamento: Ocorreu um erro. A observação diz que o action_input para value_counts deve ser uma string simples, mas eu enviei um objeto JSON. Além disso, não tenho certeza se 'Vendas' é o nome exato da coluna. Vou primeiro verificar todos os nomes de colunas disponíveis para ter certeza e depois tentarei chamar value_counts com o formato correto.\n",
    "Ação:\n",
    "```json\n",
    "{\n",
    "\"action\": \"get_column_names\",\n",
    "\"action_input\": {}\n",
    "}\n",
    "```\n",
    "Observação: ['Timestamp', 'Vendas_Totais', 'Regiao', 'ID_Produto']\n",
    "Pensamento: Agora vejo o nome correto da coluna é 'Vendas_Totais'. Vou chamar value_counts novamente, desta vez com o nome correto e no formato de string simples, como a primeira mensagem de erro instruiu.\n",
    "Ação:\n",
    "```json\n",
    "{\n",
    "\"action\": \"value_counts\",\n",
    "\"action_input\": \"Vendas_Totais\"\n",
    "}\n",
    "```\n",
    "Observação: [Resultado da ferramenta value_counts]\n",
    "Pensamento: Agora tenho a informação que preciso para responder.\n",
    "Resposta Final: A distribuição da coluna 'Vendas_Totais' é a seguinte...\n",
    "\n",
    "\n",
    "SEU TURNO\n",
    "Agora, siga o mesmo processo. Use o formato abaixo, parando sempre após a Ação.\n",
    "\n",
    "Formato:\n",
    "Pergunta: a pergunta de entrada que você deve responder\n",
    "Pensamento: ...\n",
    "Ação:\n",
    "```json\n",
    "{\n",
    "\"action\": \"nome da ferramenta\",\n",
    "\"action_input\": \"entrada da ferramenta\"\n",
    "}\n",
    "```\n",
    "\n",
    "\"\"\"\n",
    "\n",
    "prompt_template = ChatPromptTemplate.from_messages(\n",
    "                [\n",
    "                    SystemMessage(content=react_template, input_variables=['tool_names', 'tools']),\n",
    "                    HumanMessagePromptTemplate.from_template(\"{question}\"),\n",
    "                ]\n",
    "            )\n",
    "\n",
    "\n",
    "prompt = prompt_template.partial(\n",
    "    tools=render_text_description(tools),\n",
    "    tool_names=\", \".join([t.name for t in tools]),\n",
    ")\n"
   ]
  },
  {
   "cell_type": "markdown",
   "id": "f325ddc5",
   "metadata": {},
   "source": [
    "Tentando conversar com o agente"
   ]
  },
  {
   "cell_type": "code",
   "execution_count": null,
   "id": "e53543a3",
   "metadata": {},
   "outputs": [],
   "source": [
    "# ✅ Etapa 5: Conversar com o agente\n",
    "estado = graph.invoke({\"messages\": prompt.format_messages(question = \"Oi, como é nosso dataset?\")}, config)"
   ]
  },
  {
   "cell_type": "code",
   "execution_count": 98,
   "id": "bd784ecd",
   "metadata": {},
   "outputs": [
    {
     "data": {
      "text/plain": [
       "'Pensamento: Para entender melhor o dataset, primeiro preciso saber quais colunas estão disponíveis. Vou usar a ferramenta `get_column_names` para obter a lista de colunas.\\n\\nAção:\\n```json\\n{\\n\"action\": \"get_column_names\",\\n\"action_input\": {}\\n}\\n```'"
      ]
     },
     "execution_count": 98,
     "metadata": {},
     "output_type": "execute_result"
    }
   ],
   "source": [
    "estado[\"messages\"][-1].content"
   ]
  }
 ],
 "metadata": {
  "kernelspec": {
   "display_name": "agenteiadp",
   "language": "python",
   "name": "python3"
  },
  "language_info": {
   "codemirror_mode": {
    "name": "ipython",
    "version": 3
   },
   "file_extension": ".py",
   "mimetype": "text/x-python",
   "name": "python",
   "nbconvert_exporter": "python",
   "pygments_lexer": "ipython3",
   "version": "3.11.4"
  }
 },
 "nbformat": 4,
 "nbformat_minor": 5
}
