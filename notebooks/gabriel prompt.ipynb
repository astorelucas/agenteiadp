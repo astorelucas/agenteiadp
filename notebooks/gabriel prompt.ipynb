{
 "cells": [
  {
   "cell_type": "markdown",
   "id": "81925204",
   "metadata": {},
   "source": [
    "## Testando Prompt (usando create_pandas_dataframe_agent)\n",
    "Observações: aqui o prompt já é pre-made, portanto para alterar ele devo adicionar prefixo e/ou sufixo."
   ]
  },
  {
   "cell_type": "markdown",
   "id": "f09fdef3",
   "metadata": {},
   "source": [
    "### Tokens e imports"
   ]
  },
  {
   "cell_type": "code",
   "execution_count": 2,
   "id": "43d8ff2a",
   "metadata": {},
   "outputs": [],
   "source": [
    "# default\n",
    "import os\n",
    "from getpass import getpass\n",
    "import pandas as pd\n",
    "from typing import Annotated\n",
    "from typing_extensions import TypedDict\n",
    "\n",
    "# langchain \n",
    "from langgraph.graph.message import add_messages\n",
    "from langchain.agents import tool\n",
    "from langgraph.graph import StateGraph, START, END, MessagesState\n",
    "from langgraph.prebuilt import ToolNode, tools_condition\n",
    "from langgraph.checkpoint.memory import MemorySaver\n",
    "from langchain.tools.render import render_text_description\n",
    "\n",
    "from langchain_community.chat_models import ChatDeepInfra\n",
    "from langchain_community.tools.tavily_search import TavilySearchResults\n",
    "\n",
    "from langchain_core.messages import HumanMessage, SystemMessage, AIMessage\n",
    "from langchain_core.prompts import ChatPromptTemplate, PromptTemplate\n",
    "from langchain_core.prompts import HumanMessagePromptTemplate\n",
    "\n",
    "from langchain_experimental.agents.agent_toolkits import create_pandas_dataframe_agent\n",
    "\n",
    "\n",
    "from dotenv import load_dotenv\n",
    "from pydantic import BaseModel\n"
   ]
  },
  {
   "cell_type": "code",
   "execution_count": 3,
   "id": "6029158f",
   "metadata": {},
   "outputs": [],
   "source": [
    "os.environ[\"DEEPINFRA_API_TOKEN\"] = getpass(\"Digite sua chave da DeepInfra: \")"
   ]
  },
  {
   "cell_type": "code",
   "execution_count": 4,
   "id": "43e569a0",
   "metadata": {},
   "outputs": [],
   "source": [
    "os.environ[\"TAVILY_API_KEY\"] = getpass(\"Digite sua chave do Travily: \")\n",
    "#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"
   ]
  },
  {
   "cell_type": "markdown",
   "id": "05063302",
   "metadata": {},
   "source": [
    "### Definindo Tools\n",
    "Aqui definirei as tools do meu agente. Inicialmente tools simples e aleatórias apenas para testar"
   ]
  },
  {
   "cell_type": "code",
   "execution_count": 5,
   "id": "3f4a4088",
   "metadata": {},
   "outputs": [
    {
     "name": "stdout",
     "output_type": "stream",
     "text": [
      "DataFrame global carregado com 26208 linhas e 359 colunas.\n"
     ]
    }
   ],
   "source": [
    "df = pd.read_csv(\"./datasets/pems03.csv\")\n",
    "print(f\"DataFrame global carregado com {df.shape[0]} linhas e {df.shape[1]} colunas.\")\n",
    "\n",
    "class SchemaTools(BaseModel):\n",
    "    coluna: str\n",
    "\n",
    "@tool()\n",
    "def get_column_names() -> str:\n",
    "    \"\"\"\n",
    "    Retorna uma lista com todos os nomes das colunas do dataset.\n",
    "    Útil para saber quais colunas estão disponíveis para análise.\n",
    "\n",
    "    Argumento: nenhum.\n",
    "    Retorno: string.\n",
    "    \"\"\"\n",
    "    global df \n",
    "    return str(df.columns.tolist())\n",
    "\n",
    "@tool(args_schema=SchemaTools)\n",
    "def summary_statistics(column_name: str) -> str:\n",
    "    \"\"\"\n",
    "    Calcula estatísticas descritivas para uma coluna numérica específica.\n",
    "    \n",
    "    Argumento: nome da coluna .\n",
    "    Retorna média, desvio padrão, mínimo, máximo e os quartis.\n",
    "    \"\"\"\n",
    "    global df \n",
    "    return df[column_name].describe().to_string()\n",
    "\n",
    "@tool(args_schema=SchemaTools)\n",
    "def value_counts(column_name: str) -> str:\n",
    "    \"\"\"\n",
    "    Conta a frequência de cada valor único em uma coluna categórica.\n",
    "    Argumento: nome da coluna.\n",
    "    Retorno: string.\n",
    "    \"\"\"\n",
    "    global df \n",
    "    return df[column_name].value_counts().to_string()\n",
    "\n",
    "@tool(args_schema=SchemaTools)\n",
    "def check_missing_values(column_name: str) -> str:\n",
    "    \"\"\"\n",
    "    Verifica e conta a quantidade de valores nulos (NaN) em uma coluna específica.\n",
    "    Argumento: nome da coluna.\n",
    "    Retorno: string.\n",
    "    \"\"\"\n",
    "    global df \n",
    "    missing_count = df[column_name].isnull().sum()\n",
    "    return f\"A coluna '{column_name}' tem {missing_count} valores faltantes.\"\n",
    "\n",
    "@tool(args_schema=SchemaTools)\n",
    "def calculate_correlation(column_a: str, column_b: str) -> str:\n",
    "    \"\"\"\n",
    "    Calcula a correlação entre duas colunas numéricas. O valor varia de -1 a 1.\n",
    "    Argumento: nome da coluna 1, nome da coluna 2.\n",
    "    Retorno: string.\n",
    "    \"\"\"\n",
    "    global df \n",
    "    correlation = df[[column_a, column_b]].corr().iloc[0, 1]\n",
    "    return f\"A correlação entre '{column_a}' e '{column_b}' é: {correlation:.4f}\"\n",
    "\n"
   ]
  },
  {
   "cell_type": "code",
   "execution_count": 6,
   "id": "f86c25e1",
   "metadata": {},
   "outputs": [
    {
     "name": "stderr",
     "output_type": "stream",
     "text": [
      "/Users/lucasastore/Library/Mobile Documents/com~apple~CloudDocs/Doutorado/DCC UFMG/AI Agents/agenteiadp/.venv/lib/python3.13/site-packages/langchain_experimental/agents/agent_toolkits/pandas/base.py:283: UserWarning: Received additional kwargs {'max_interations': 10, 'sufix': 'O nome do dataframe é df e ele representa uma série temporal.'} which are no longer supported.\n",
      "  warnings.warn(\n"
     ]
    }
   ],
   "source": [
    "tools = [\n",
    "    get_column_names,\n",
    "    summary_statistics,\n",
    "    value_counts,\n",
    "    check_missing_values,\n",
    "    calculate_correlation,\n",
    "]\n",
    "\n",
    "llm = ChatDeepInfra(model=\"meta-llama/Llama-4-Maverick-17B-128E-Instruct-FP8\", temperature=0)\n",
    "\n",
    "agent = create_pandas_dataframe_agent(\n",
    "    llm = llm,\n",
    "    df= pd.DataFrame(df),\n",
    "    verbose=True,\n",
    "    allow_dangerous_code=True,\n",
    "    return_intermediate_steps=True, # Retorna tb os pensamentos e ações do agente\n",
    "    agent_type=\"zero-shot-react-description\",\n",
    "    extra_tools = tools,\n",
    "    max_interations = 10,\n",
    "    prefix = \"Você é um analista de dados especialista em Análise Exploratória de Dados (EDA), com foco principal em datasets de séries temporais. Sua tarefa é usar as ferramentas disponíveis para extrair insights valiosos e responder às perguntas do usuário.\",  # definindo a persona\n",
    "    sufix = \"O nome do dataframe é df e ele representa uma série temporal.\"    \n",
    ")"
   ]
  },
  {
   "cell_type": "markdown",
   "id": "68cf04ac",
   "metadata": {},
   "source": [
    "### Definições LangChain"
   ]
  },
  {
   "cell_type": "code",
   "execution_count": 7,
   "id": "986c622b",
   "metadata": {},
   "outputs": [],
   "source": [
    "class State(TypedDict):\n",
    "    messages: list\n",
    "    logs: list\n",
    "    all_tool_outputs: list\n",
    "\n",
    "graph_builder = StateGraph(State)"
   ]
  },
  {
   "cell_type": "code",
   "execution_count": 8,
   "id": "49539695",
   "metadata": {},
   "outputs": [
    {
     "data": {
      "text/plain": [
       "<langgraph.graph.state.StateGraph at 0x1239aea50>"
      ]
     },
     "execution_count": 8,
     "metadata": {},
     "output_type": "execute_result"
    }
   ],
   "source": [
    "def chatbot(state: State):\n",
    "    return {\"messages\": [agent.invoke(state[\"messages\"])]}\n",
    "\n",
    "# Nó de ferramentas\n",
    "def tool_node(state: State):\n",
    "    print(\"Nó de ferramentas chamado com estado:\", state)\n",
    "    return ToolNode(tools=tools)(state)\n",
    "\n",
    "# Adicionando os nós simplificados\n",
    "graph_builder.add_node(\"chatbot\", chatbot)\n",
    "graph_builder.add_node(\"tools\", tool_node)"
   ]
  },
  {
   "cell_type": "code",
   "execution_count": 9,
   "id": "d7dd5dea",
   "metadata": {},
   "outputs": [
    {
     "data": {
      "image/png": "[encoded data removed]",
      "text/plain": [
       "<IPython.core.display.Image object>"
      ]
     },
     "metadata": {},
     "output_type": "display_data"
    }
   ],
   "source": [
    "graph_builder.add_edge(START, \"chatbot\")\n",
    "\n",
    "# As arestas condicionais e de volta para o chatbot\n",
    "graph_builder.add_conditional_edges(\"chatbot\", tools_condition)\n",
    "graph_builder.add_edge(\"tools\", \"chatbot\")\n",
    "\n",
    "\n",
    "checkpointer = MemorySaver()\n",
    "config = {\n",
    "    \"configurable\": {\n",
    "        \"model\": llm,\n",
    "        \"thread_id\": \"1\"\n",
    "    }\n",
    "}\n",
    "graph = graph_builder.compile(checkpointer=checkpointer)\n",
    "from IPython.display import Image, display\n",
    "display(Image(graph.get_graph().draw_mermaid_png()))"
   ]
  },
  {
   "cell_type": "markdown",
   "id": "6181c141",
   "metadata": {},
   "source": [
    "### Agent Prompting\n",
    "Essa é a parte que estava focando. Estava tentando usar \"Iterative Refinement Prompting\" & \"Reasoning and Acting\"\n",
    "Entretanto o próprio agent_dataframe ja faz essas coisas, então apenas usei o prefixo com a estratégia de persona, e o sufixo com informações do dataset.\n"
   ]
  },
  {
   "cell_type": "markdown",
   "id": "f325ddc5",
   "metadata": {},
   "source": [
    "### Tentando conversar com o agente"
   ]
  },
  {
   "cell_type": "code",
   "execution_count": 11,
   "id": "e53543a3",
   "metadata": {},
   "outputs": [
    {
     "name": "stdout",
     "output_type": "stream",
     "text": [
      "\n",
      "\n",
      "\u001b[1m> Entering new AgentExecutor chain...\u001b[0m\n",
      "\u001b[32;1m\u001b[1;3mThought: Para fornecer uma informação interessante sobre o dataset, primeiro preciso entender a estrutura e o conteúdo do dataset. Vou começar obtendo os nomes das colunas.\n",
      "\n",
      "Action: get_column_names\n",
      "Action Input: \u001b[0m\u001b[33;1m\u001b[1;3m['timestamp', '313344', '313349', '313438', '313450', '313487', '313493', '313512', '313551', '313552', '317752', '313658', '317814', '317815', '317842', '317843', '317852', '317853', '315804', '317861', '317862', '313772', '317869', '315822', '317870', '315823', '315824', '315826', '315827', '315828', '315825', '315830', '315831', '315833', '315834', '315835', '317884', '317885', '315836', '315837', '315838', '315841', '315842', '315839', '315843', '315846', '315847', '317895', '315849', '315850', '317896', '315852', '315853', '317902', '317903', '315854', '315855', '315856', '315858', '315860', '315861', '317909', '317910', '315857', '315866', '315867', '315872', '315873', '315874', '315875', '315879', '315880', '315882', '315883', '317933', '315886', '315887', '317934', '315891', '315892', '315894', '315895', '313846', '317947', '313852', '315900', '317948', '315901', '315904', '315903', '315907', '317956', '315908', '315910', '315911', '317960', '315913', '315914', '315915', '317974', '315927', '315938', '317998', '315955', '315969', '318022', '318028', '318029', '315982', '318035', '318036', '315993', '311903', '313951', '316001', '313956', '318053', '318052', '316009', '316018', '316019', '311930', '313979', '318076', '318077', '316032', '316045', '318102', '314013', '316063', '316064', '318113', '316073', '316074', '314025', '318126', '316084', '316085', '314036', '318135', '314042', '318142', '312010', '316114', '316118', '316129', '318179', '318180', '314121', '318218', '316174', '318236', '312098', '314147', '312103', '314157', '314165', '312132', '312133', '312134', '318282', '312139', '314217', '316271', '314230', '316279', '316280', '316281', '312188', '314241', '314248', '318354', '316314', '312220', '318366', '316328', '312233', '312236', '318383', '318401', '312264', '318412', '316364', '318421', '318432', '316387', '316388', '318443', '316399', '316400', '318451', '316414', '314371', '312326', '314379', '316429', '318484', '316438', '312343', '312346', '318493', '316451', '314419', '312382', '318528', '314433', '312386', '312388', '318540', '314446', '318550', '318551', '314460', '312420', '312421', '312422', '318565', '318566', '312425', '318575', '318576', '314485', '312439', '318586', '314491', '318593', '314501', '318599', '318611', '318612', '318620', '318626', '318632', '318636', '314548', '318649', '318650', '314559', '318656', '312513', '312514', '312517', '312520', '318665', '318666', '312523', '312525', '312527', '318674', '312530', '318680', '314598', '312562', '312564', '312566', '318711', '314617', '312570', '318721', '314625', '318736', '318742', '318744', '314652', '318753', '318764', '314668', '318772', '318773', '318775', '314681', '314689', '318787', '318788', '312648', '314697', '314698', '312651', '318800', '318801', '314711', '314712', '318815', '318816', '314730', '318832', '312689', '312694', '318844', '312745', '312757', '312771', '312782', '312804', '312807', '314876', '314877', '314886', '314899', '312852', '312854', '312856', '312857', '312858', '314909', '312865', '314923', '314936', '312895', '312896', '312898', '312900', '314955', '314968', '314982', '312940', '312942', '312944', '314994', '312946', '315006', '317064', '315017', '315030', '317081', '317088', '315042', '313000', '313003', '313005', '315054', '313010', '315060', '313035', '313037', '317139', '317141', '317143', '317146', '313055', '317157', '317166', '317168', '317171', '313080', '313082', '313111', '313114', '313132', '313144', '313159', '313166', '313172', '313178', '313184', '313190', '313197', '313204', '313339']\u001b[0m\u001b[32;1m\u001b[1;3mO dataset contém uma coluna 'timestamp' e várias outras colunas numéricas. Para fornecer uma informação interessante, vou verificar se há alguma coluna com valores missing e calcular estatísticas descritivas para algumas colunas numéricas.\n",
      "\n",
      "Action: check_missing_values\n",
      "Action Input: 313344\u001b[0m\u001b[33;1m\u001b[1;3mA coluna '313344' tem 0 valores faltantes.\u001b[0m\u001b[32;1m\u001b[1;3mAction: summary_statistics\n",
      "Action Input: 313344\u001b[0m\u001b[38;5;200m\u001b[1;3mcount    26208.000000\n",
      "mean       120.401748\n",
      "std         76.841761\n",
      "min          0.000000\n",
      "25%         46.000000\n",
      "50%        128.000000\n",
      "75%        176.000000\n",
      "max        339.000000\u001b[0m\u001b[32;1m\u001b[1;3mA coluna '313344' tem uma média de aproximadamente 120.40, com um desvio padrão de cerca de 76.84. Os valores variam de 0 a 339. O primeiro quartil (25%) é 46, a mediana (50%) é 128 e o terceiro quartil (75%) é 176. Isso sugere que a maioria dos valores está concentrada entre 46 e 176, mas há uma variação significativa.\n",
      "\n",
      "Final Answer: A coluna '313344' tem uma média de 120.40 e desvio padrão de 76.84, com valores variando de 0 a 339.\u001b[0m\n",
      "\n",
      "\u001b[1m> Finished chain.\u001b[0m\n"
     ]
    }
   ],
   "source": [
    "estado = graph.invoke({\"messages\": [HumanMessage(content=\"Me forneça uma informação interessante sobre o dataset\")]}, config)"
   ]
  },
  {
   "cell_type": "code",
   "execution_count": 12,
   "id": "bd784ecd",
   "metadata": {},
   "outputs": [
    {
     "data": {
      "text/plain": [
       "[{'input': [HumanMessage(content='Me forneça uma informação interessante sobre o dataset', additional_kwargs={}, response_metadata={})],\n",
       "  'output': \"A coluna '313344' tem uma média de 120.40 e desvio padrão de 76.84, com valores variando de 0 a 339.\",\n",
       "  'intermediate_steps': [(AgentAction(tool='get_column_names', tool_input='', log='Thought: Para fornecer uma informação interessante sobre o dataset, primeiro preciso entender a estrutura e o conteúdo do dataset. Vou começar obtendo os nomes das colunas.\\n\\nAction: get_column_names\\nAction Input: '),\n",
       "    \"['timestamp', '313344', '313349', '313438', '313450', '313487', '313493', '313512', '313551', '313552', '317752', '313658', '317814', '317815', '317842', '317843', '317852', '317853', '315804', '317861', '317862', '313772', '317869', '315822', '317870', '315823', '315824', '315826', '315827', '315828', '315825', '315830', '315831', '315833', '315834', '315835', '317884', '317885', '315836', '315837', '315838', '315841', '315842', '315839', '315843', '315846', '315847', '317895', '315849', '315850', '317896', '315852', '315853', '317902', '317903', '315854', '315855', '315856', '315858', '315860', '315861', '317909', '317910', '315857', '315866', '315867', '315872', '315873', '315874', '315875', '315879', '315880', '315882', '315883', '317933', '315886', '315887', '317934', '315891', '315892', '315894', '315895', '313846', '317947', '313852', '315900', '317948', '315901', '315904', '315903', '315907', '317956', '315908', '315910', '315911', '317960', '315913', '315914', '315915', '317974', '315927', '315938', '317998', '315955', '315969', '318022', '318028', '318029', '315982', '318035', '318036', '315993', '311903', '313951', '316001', '313956', '318053', '318052', '316009', '316018', '316019', '311930', '313979', '318076', '318077', '316032', '316045', '318102', '314013', '316063', '316064', '318113', '316073', '316074', '314025', '318126', '316084', '316085', '314036', '318135', '314042', '318142', '312010', '316114', '316118', '316129', '318179', '318180', '314121', '318218', '316174', '318236', '312098', '314147', '312103', '314157', '314165', '312132', '312133', '312134', '318282', '312139', '314217', '316271', '314230', '316279', '316280', '316281', '312188', '314241', '314248', '318354', '316314', '312220', '318366', '316328', '312233', '312236', '318383', '318401', '312264', '318412', '316364', '318421', '318432', '316387', '316388', '318443', '316399', '316400', '318451', '316414', '314371', '312326', '314379', '316429', '318484', '316438', '312343', '312346', '318493', '316451', '314419', '312382', '318528', '314433', '312386', '312388', '318540', '314446', '318550', '318551', '314460', '312420', '312421', '312422', '318565', '318566', '312425', '318575', '318576', '314485', '312439', '318586', '314491', '318593', '314501', '318599', '318611', '318612', '318620', '318626', '318632', '318636', '314548', '318649', '318650', '314559', '318656', '312513', '312514', '312517', '312520', '318665', '318666', '312523', '312525', '312527', '318674', '312530', '318680', '314598', '312562', '312564', '312566', '318711', '314617', '312570', '318721', '314625', '318736', '318742', '318744', '314652', '318753', '318764', '314668', '318772', '318773', '318775', '314681', '314689', '318787', '318788', '312648', '314697', '314698', '312651', '318800', '318801', '314711', '314712', '318815', '318816', '314730', '318832', '312689', '312694', '318844', '312745', '312757', '312771', '312782', '312804', '312807', '314876', '314877', '314886', '314899', '312852', '312854', '312856', '312857', '312858', '314909', '312865', '314923', '314936', '312895', '312896', '312898', '312900', '314955', '314968', '314982', '312940', '312942', '312944', '314994', '312946', '315006', '317064', '315017', '315030', '317081', '317088', '315042', '313000', '313003', '313005', '315054', '313010', '315060', '313035', '313037', '317139', '317141', '317143', '317146', '313055', '317157', '317166', '317168', '317171', '313080', '313082', '313111', '313114', '313132', '313144', '313159', '313166', '313172', '313178', '313184', '313190', '313197', '313204', '313339']\"),\n",
       "   (AgentAction(tool='check_missing_values', tool_input='313344', log=\"O dataset contém uma coluna 'timestamp' e várias outras colunas numéricas. Para fornecer uma informação interessante, vou verificar se há alguma coluna com valores missing e calcular estatísticas descritivas para algumas colunas numéricas.\\n\\nAction: check_missing_values\\nAction Input: 313344\"),\n",
       "    \"A coluna '313344' tem 0 valores faltantes.\"),\n",
       "   (AgentAction(tool='summary_statistics', tool_input='313344', log='Action: summary_statistics\\nAction Input: 313344'),\n",
       "    'count    26208.000000\\nmean       120.401748\\nstd         76.841761\\nmin          0.000000\\n25%         46.000000\\n50%        128.000000\\n75%        176.000000\\nmax        339.000000')]}]"
      ]
     },
     "execution_count": 12,
     "metadata": {},
     "output_type": "execute_result"
    }
   ],
   "source": [
    "estado[\"messages\"]"
   ]
  },
  {
   "cell_type": "code",
   "execution_count": 15,
   "id": "1a78daf2",
   "metadata": {},
   "outputs": [
    {
     "name": "stdout",
     "output_type": "stream",
     "text": [
      "\n",
      "\n",
      "\u001b[1m> Entering new AgentExecutor chain...\u001b[0m\n",
      "\u001b[32;1m\u001b[1;3mThought: Para fornecer uma informação interessante sobre o dataset sem usar as ferramentas apresentadas, posso carregar o dataset em um DataFrame do pandas e realizar uma análise básica. Primeiramente, preciso entender a estrutura do dataset.\n",
      "\n",
      "Action: python_repl_ast\n",
      "Action Input: \n",
      "```python\n",
      "import pandas as pd\n",
      "\n",
      "# Carregar o dataset\n",
      "df = pd.read_csv('dataset.csv')\n",
      "\n",
      "# Verificar as primeiras linhas do dataset\n",
      "print(df.head())\n",
      "```\n",
      "\u001b[0m\u001b[36;1m\u001b[1;3mFileNotFoundError: [Errno 2] No such file or directory: 'dataset.csv'\u001b[0m\u001b[32;1m\u001b[1;3mPara fornecer uma informação interessante sobre o dataset sem usar as ferramentas apresentadas, posso carregar o dataset em um DataFrame do pandas e realizar uma análise básica. Primeiramente, preciso entender a estrutura do dataset.\n",
      "\n",
      "Action: python_repl_ast\n",
      "Action Input:\n",
      "```python\n",
      "import pandas as pd\n",
      "\n",
      "# O dataset já está carregado em 'df', então posso usar 'df' diretamente\n",
      "# Verificar as primeiras linhas do dataset\n",
      "print(df.head())\n",
      "\n",
      "# Verificar informações sobre o dataset\n",
      "print(df.info())\n",
      "print(df.describe())\n",
      "```\n",
      "\u001b[0m            timestamp  313344  313349  313438  313450\n",
      "0 2018-09-01 00:00:00      20      20     182     182\n",
      "1 2018-09-01 00:05:00      22      22     174     174\n",
      "2 2018-09-01 00:10:00      22      22     183     183\n",
      "3 2018-09-01 00:15:00      50      49     137     139\n",
      "4 2018-09-01 00:20:00      37      35     128     123\n",
      "<class 'pandas.core.frame.DataFrame'>\n",
      "RangeIndex: 5 entries, 0 to 4\n",
      "Data columns (total 5 columns):\n",
      " #   Column     Non-Null Count  Dtype         \n",
      "---  ------     --------------  -----         \n",
      " 0   timestamp  5 non-null      datetime64[ns]\n",
      " 1   313344     5 non-null      int64         \n",
      " 2   313349     5 non-null      int64         \n",
      " 3   313438     5 non-null      int64         \n",
      " 4   313450     5 non-null      int64         \n",
      "dtypes: datetime64[ns](1), int64(4)\n",
      "memory usage: 332.0 bytes\n",
      "None\n",
      "\u001b[36;1m\u001b[1;3m                 timestamp    313344     313349     313438      313450\n",
      "count                    5   5.00000   5.000000    5.00000    5.000000\n",
      "mean   2018-09-01 00:10:00  30.20000  29.600000  160.80000  160.200000\n",
      "min    2018-09-01 00:00:00  20.00000  20.000000  128.00000  123.000000\n",
      "25%    2018-09-01 00:05:00  22.00000  22.000000  137.00000  139.000000\n",
      "50%    2018-09-01 00:10:00  22.00000  22.000000  174.00000  174.000000\n",
      "75%    2018-09-01 00:15:00  37.00000  35.000000  182.00000  182.000000\n",
      "max    2018-09-01 00:20:00  50.00000  49.000000  183.00000  183.000000\n",
      "std                    NaN  13.00769  12.381438   26.26214   27.471804\n",
      "\u001b[0m\u001b[32;1m\u001b[1;3mPara fornecer uma informação interessante sobre o dataset, posso analisar as estatísticas descritivas geradas pelo `describe()` e as informações do dataset geradas pelo `info()`. \n",
      "\n",
      "Uma informação interessante é que o dataset parece ser uma série temporal, dado que a primeira coluna é um timestamp. Além disso, as outras colunas parecem ser valores numéricos associados a esse timestamp. \n",
      "\n",
      "Outra informação interessante é que as colunas numéricas têm valores médios e desvios padrão variados, o que pode indicar que elas representam diferentes grandezas ou escalas. \n",
      "\n",
      "Além disso, o fato de haver 5 linhas no dataset (conforme indicado pelo `count` no `describe()`) sugere que o dataset pode ser uma amostra pequena de uma série temporal mais longa.\n",
      "\n",
      "Uma análise mais aprofundada poderia ser realizada para entender melhor a relação entre as diferentes colunas e como elas variam ao longo do tempo.\n",
      "\n",
      "Final Answer: O dataset é uma série temporal com 5 registros, contendo uma coluna de timestamp e várias colunas numéricas com valores variados.\u001b[0m\n",
      "\n",
      "\u001b[1m> Finished chain.\u001b[0m\n"
     ]
    }
   ],
   "source": [
    "estado = graph.invoke({\"messages\": [HumanMessage(content=\"Me forneça uma informação interessante sobre o dataset sem usar as ferramentas apresentadas no prompt, apenas usando seus proprios conhecimentos em pandas\")]}, config)"
   ]
  },
  {
   "cell_type": "code",
   "execution_count": 16,
   "id": "24c6a6d8",
   "metadata": {},
   "outputs": [
    {
     "data": {
      "text/plain": [
       "[{'input': [HumanMessage(content='Me forneça uma informação interessante sobre o dataset sem usar as ferramentas apresentadas no prompt, apenas usando seus proprios conhecimentos em pandas', additional_kwargs={}, response_metadata={})],\n",
       "  'output': 'O dataset é uma série temporal com 5 registros, contendo uma coluna de timestamp e várias colunas numéricas com valores variados.',\n",
       "  'intermediate_steps': [(AgentAction(tool='python_repl_ast', tool_input=\"```python\\nimport pandas as pd\\n\\n# Carregar o dataset\\ndf = pd.read_csv('dataset.csv')\\n\\n# Verificar as primeiras linhas do dataset\\nprint(df.head())\\n```\\n\", log=\"Thought: Para fornecer uma informação interessante sobre o dataset sem usar as ferramentas apresentadas, posso carregar o dataset em um DataFrame do pandas e realizar uma análise básica. Primeiramente, preciso entender a estrutura do dataset.\\n\\nAction: python_repl_ast\\nAction Input: \\n```python\\nimport pandas as pd\\n\\n# Carregar o dataset\\ndf = pd.read_csv('dataset.csv')\\n\\n# Verificar as primeiras linhas do dataset\\nprint(df.head())\\n```\\n\"),\n",
       "    \"FileNotFoundError: [Errno 2] No such file or directory: 'dataset.csv'\"),\n",
       "   (AgentAction(tool='python_repl_ast', tool_input=\"```python\\nimport pandas as pd\\n\\n# O dataset já está carregado em 'df', então posso usar 'df' diretamente\\n# Verificar as primeiras linhas do dataset\\nprint(df.head())\\n\\n# Verificar informações sobre o dataset\\nprint(df.info())\\nprint(df.describe())\\n```\\n\", log=\"Para fornecer uma informação interessante sobre o dataset sem usar as ferramentas apresentadas, posso carregar o dataset em um DataFrame do pandas e realizar uma análise básica. Primeiramente, preciso entender a estrutura do dataset.\\n\\nAction: python_repl_ast\\nAction Input:\\n```python\\nimport pandas as pd\\n\\n# O dataset já está carregado em 'df', então posso usar 'df' diretamente\\n# Verificar as primeiras linhas do dataset\\nprint(df.head())\\n\\n# Verificar informações sobre o dataset\\nprint(df.info())\\nprint(df.describe())\\n```\\n\"),\n",
       "    '                 timestamp    313344     313349     313438      313450\\ncount                    5   5.00000   5.000000    5.00000    5.000000\\nmean   2018-09-01 00:10:00  30.20000  29.600000  160.80000  160.200000\\nmin    2018-09-01 00:00:00  20.00000  20.000000  128.00000  123.000000\\n25%    2018-09-01 00:05:00  22.00000  22.000000  137.00000  139.000000\\n50%    2018-09-01 00:10:00  22.00000  22.000000  174.00000  174.000000\\n75%    2018-09-01 00:15:00  37.00000  35.000000  182.00000  182.000000\\nmax    2018-09-01 00:20:00  50.00000  49.000000  183.00000  183.000000\\nstd                    NaN  13.00769  12.381438   26.26214   27.471804\\n')]}]"
      ]
     },
     "execution_count": 16,
     "metadata": {},
     "output_type": "execute_result"
    }
   ],
   "source": [
    "estado[\"messages\"]"
   ]
  }
 ],
 "metadata": {
  "kernelspec": {
   "display_name": "agenteiadp",
   "language": "python",
   "name": "python3"
  },
  "language_info": {
   "codemirror_mode": {
    "name": "ipython",
    "version": 3
   },
   "file_extension": ".py",
   "mimetype": "text/x-python",
   "name": "python",
   "nbconvert_exporter": "python",
   "pygments_lexer": "ipython3",
   "version": "3.11.4"
  }
 },
 "nbformat": 4,
 "nbformat_minor": 5
}
