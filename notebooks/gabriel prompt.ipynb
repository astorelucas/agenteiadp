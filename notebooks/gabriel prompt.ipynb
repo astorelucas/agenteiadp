{
 "cells": [
  {
   "cell_type": "markdown",
   "id": "81925204",
   "metadata": {},
   "source": [
    "## Testando Prompt (usando create_pandas_dataframe_agent)\n",
    "Observações: aqui o prompt já é pre-made, portanto para alterar ele devo adicionar prefixo e/ou sufixo."
   ]
  },
  {
   "cell_type": "markdown",
   "id": "f09fdef3",
   "metadata": {},
   "source": [
    "### Tokens e imports"
   ]
  },
  {
   "cell_type": "code",
   "execution_count": 7,
   "id": "43d8ff2a",
   "metadata": {},
   "outputs": [],
   "source": [
    "# default\n",
    "import os\n",
    "from getpass import getpass\n",
    "import pandas as pd\n",
    "from typing import Annotated\n",
    "from typing_extensions import TypedDict\n",
    "\n",
    "# langchain \n",
    "from langgraph.graph.message import add_messages\n",
    "from langchain.agents import tool\n",
    "from langgraph.graph import StateGraph, START, END, MessagesState\n",
    "from langgraph.prebuilt import ToolNode, tools_condition\n",
    "from langgraph.checkpoint.memory import MemorySaver\n",
    "from langchain.tools.render import render_text_description\n",
    "\n",
    "from langchain_community.chat_models import ChatDeepInfra\n",
    "from langchain_community.tools.tavily_search import TavilySearchResults\n",
    "\n",
    "from langchain_core.messages import HumanMessage, SystemMessage, AIMessage\n",
    "from langchain_core.prompts import ChatPromptTemplate, PromptTemplate\n",
    "from langchain_core.prompts import HumanMessagePromptTemplate\n",
    "\n",
    "from langchain_experimental.agents.agent_toolkits import create_pandas_dataframe_agent\n",
    "\n",
    "\n",
    "from dotenv import load_dotenv\n",
    "from pydantic import BaseModel\n"
   ]
  },
  {
   "cell_type": "code",
   "execution_count": 3,
   "id": "6029158f",
   "metadata": {},
   "outputs": [],
   "source": [
    "os.environ[\"DEEPINFRA_API_TOKEN\"] = getpass(\"Digite sua chave da DeepInfra: \")"
   ]
  },
  {
   "cell_type": "code",
   "execution_count": 5,
   "id": "43e569a0",
   "metadata": {},
   "outputs": [],
   "source": [
    "os.environ[\"TAVILY_API_KEY\"] = getpass(\"Digite sua chave do Travily: \")\n",
    "#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"
   ]
  },
  {
   "cell_type": "markdown",
   "id": "05063302",
   "metadata": {},
   "source": [
    "### Definindo Tools\n",
    "Aqui definirei as tools do meu agente. Inicialmente tools simples e aleatórias apenas para testar"
   ]
  },
  {
   "cell_type": "code",
   "execution_count": 16,
   "id": "3f4a4088",
   "metadata": {},
   "outputs": [
    {
     "name": "stdout",
     "output_type": "stream",
     "text": [
      "DataFrame global carregado com 26208 linhas e 359 colunas.\n"
     ]
    }
   ],
   "source": [
    "df = pd.read_csv(\"./datasets/pems03.csv\")\n",
    "print(f\"DataFrame global carregado com {df.shape[0]} linhas e {df.shape[1]} colunas.\")\n",
    "\n",
    "class SchemaTools(BaseModel):\n",
    "    coluna: str\n",
    "\n",
    "@tool()\n",
    "def get_column_names() -> str:\n",
    "    \"\"\"\n",
    "    Retorna uma lista com todos os nomes das colunas do dataset.\n",
    "    Útil para saber quais colunas estão disponíveis para análise.\n",
    "\n",
    "    Argumento: nenhum.\n",
    "    Retorno: string.\n",
    "    \"\"\"\n",
    "    global df \n",
    "    return str(df.columns.tolist())\n",
    "\n",
    "@tool(args_schema=SchemaTools)\n",
    "def summary_statistics(column_name: str) -> str:\n",
    "    \"\"\"\n",
    "    Calcula estatísticas descritivas para uma coluna numérica específica.\n",
    "    \n",
    "    Argumento: nome da coluna .\n",
    "    Retorna média, desvio padrão, mínimo, máximo e os quartis.\n",
    "    \"\"\"\n",
    "    global df \n",
    "    return df[column_name].describe().to_string()\n",
    "\n",
    "@tool(args_schema=SchemaTools)\n",
    "def value_counts(column_name: str) -> str:\n",
    "    \"\"\"\n",
    "    Conta a frequência de cada valor único em uma coluna categórica.\n",
    "    Argumento: nome da coluna.\n",
    "    Retorno: string.\n",
    "    \"\"\"\n",
    "    global df \n",
    "    return df[column_name].value_counts().to_string()\n",
    "\n",
    "@tool(args_schema=SchemaTools)\n",
    "def check_missing_values(column_name: str) -> str:\n",
    "    \"\"\"\n",
    "    Verifica e conta a quantidade de valores nulos (NaN) em uma coluna específica.\n",
    "    Argumento: nome da coluna.\n",
    "    Retorno: string.\n",
    "    \"\"\"\n",
    "    global df \n",
    "    missing_count = df[column_name].isnull().sum()\n",
    "    return f\"A coluna '{column_name}' tem {missing_count} valores faltantes.\"\n",
    "\n",
    "@tool(args_schema=SchemaTools)\n",
    "def calculate_correlation(column_a: str, column_b: str) -> str:\n",
    "    \"\"\"\n",
    "    Calcula a correlação entre duas colunas numéricas. O valor varia de -1 a 1.\n",
    "    Argumento: nome da coluna 1, nome da coluna 2.\n",
    "    Retorno: string.\n",
    "    \"\"\"\n",
    "    global df \n",
    "    correlation = df[[column_a, column_b]].corr().iloc[0, 1]\n",
    "    return f\"A correlação entre '{column_a}' e '{column_b}' é: {correlation:.4f}\"\n",
    "\n"
   ]
  },
  {
   "cell_type": "code",
   "execution_count": null,
   "id": "f86c25e1",
   "metadata": {},
   "outputs": [
    {
     "name": "stderr",
     "output_type": "stream",
     "text": [
      "c:\\Users\\gabri\\Documents\\agenteiadp\\.venv\\Lib\\site-packages\\langchain_experimental\\agents\\agent_toolkits\\pandas\\base.py:283: UserWarning: Received additional kwargs {'max_interations': 10, 'sufix': 'O nome do dataframe é df e ele representa uma série temporal.'} which are no longer supported.\n",
      "  warnings.warn(\n"
     ]
    }
   ],
   "source": [
    "tools = [\n",
    "    get_column_names,\n",
    "    summary_statistics,\n",
    "    value_counts,\n",
    "    check_missing_values,\n",
    "    calculate_correlation,\n",
    "]\n",
    "\n",
    "llm = ChatDeepInfra(model=\"meta-llama/Llama-4-Maverick-17B-128E-Instruct-FP8\", temperature=0)\n",
    "agent = create_pandas_dataframe_agent(\n",
    "    llm = llm,\n",
    "    df= pd.DataFrame(df),\n",
    "    verbose=True,\n",
    "    allow_dangerous_code=True,\n",
    "    return_intermediate_steps=True, # Retorna tb os pensamentos e ações do agente\n",
    "    agent_type=\"zero-shot-react-description\",\n",
    "    extra_tools = tools,\n",
    "    max_interations = 10,\n",
    "    prefix = \"Você é um analista de dados especialista em Análise Exploratória de Dados (EDA), com foco principal em datasets de séries temporais. Sua tarefa é usar as ferramentas disponíveis para extrair insights valiosos e responder às perguntas do usuário.\",   # Comandos ou instruções específicas que definam claramente o papel do agente.\n",
    "    sufix = \"O nome do dataframe é df e ele representa uma série temporal.\"    # Instruções específicas que devem vir antes do início da pergunta do usuário.\n",
    ")"
   ]
  },
  {
   "cell_type": "markdown",
   "id": "68cf04ac",
   "metadata": {},
   "source": [
    "### Definições LangChain"
   ]
  },
  {
   "cell_type": "code",
   "execution_count": 23,
   "id": "986c622b",
   "metadata": {},
   "outputs": [],
   "source": [
    "class State(TypedDict):\n",
    "    messages: list\n",
    "    logs: list\n",
    "    all_tool_outputs: list\n",
    "\n",
    "graph_builder = StateGraph(State)"
   ]
  },
  {
   "cell_type": "code",
   "execution_count": 24,
   "id": "49539695",
   "metadata": {},
   "outputs": [
    {
     "data": {
      "text/plain": [
       "<langgraph.graph.state.StateGraph at 0x1c507177c90>"
      ]
     },
     "execution_count": 24,
     "metadata": {},
     "output_type": "execute_result"
    }
   ],
   "source": [
    "def chatbot(state: State):\n",
    "    return {\"messages\": [agent.invoke(state[\"messages\"])]}\n",
    "\n",
    "# Nó de ferramentas\n",
    "def tool_node(state: State):\n",
    "    print(\"Nó de ferramentas chamado com estado:\", state)\n",
    "    return ToolNode(tools=tools)(state)\n",
    "\n",
    "# Adicionando os nós simplificados\n",
    "graph_builder.add_node(\"chatbot\", chatbot)\n",
    "graph_builder.add_node(\"tools\", tool_node)"
   ]
  },
  {
   "cell_type": "code",
   "execution_count": 25,
   "id": "d7dd5dea",
   "metadata": {},
   "outputs": [
    {
     "data": {
      "image/png": "[encoded data removed]",
      "text/plain": [
       "<IPython.core.display.Image object>"
      ]
     },
     "metadata": {},
     "output_type": "display_data"
    }
   ],
   "source": [
    "graph_builder.add_edge(START, \"chatbot\")\n",
    "\n",
    "# As arestas condicionais e de volta para o chatbot\n",
    "graph_builder.add_conditional_edges(\"chatbot\", tools_condition)\n",
    "graph_builder.add_edge(\"tools\", \"chatbot\")\n",
    "\n",
    "\n",
    "checkpointer = MemorySaver()\n",
    "config = {\n",
    "    \"configurable\": {\n",
    "        \"model\": llm,\n",
    "        \"thread_id\": \"1\"\n",
    "    }\n",
    "}\n",
    "graph = graph_builder.compile(checkpointer=checkpointer)\n",
    "from IPython.display import Image, display\n",
    "display(Image(graph.get_graph().draw_mermaid_png()))"
   ]
  },
  {
   "cell_type": "markdown",
   "id": "6181c141",
   "metadata": {},
   "source": [
    "### Agent Prompting\n",
    "Essa é a parte que estava focando. Estava tentando usar \"Iterative Refinement Prompting\" & \"Reasoning and Acting\"\n",
    "Entretanto o próprio agent_dataframe ja faz essas coisas, então apenas usei o prefixo com a estratégia de persona, e o sufixo com informações do dataset.\n"
   ]
  },
  {
   "cell_type": "markdown",
   "id": "f325ddc5",
   "metadata": {},
   "source": [
    "### Tentando conversar com o agente"
   ]
  },
  {
   "cell_type": "code",
   "execution_count": null,
   "id": "e53543a3",
   "metadata": {},
   "outputs": [
    {
     "name": "stdout",
     "output_type": "stream",
     "text": [
      "\n",
      "\n",
      "\u001b[1m> Entering new AgentExecutor chain...\u001b[0m\n",
      "\u001b[32;1m\u001b[1;3mThought: Para responder à pergunta, preciso primeiro entender a estrutura do dataset. Vou começar verificando as colunas presentes no dataset.\n",
      "\n",
      "Action: python_repl_ast\n",
      "Action Input: df.columns\u001b[0m\u001b[36;1m\u001b[1;3mIndex(['timestamp', '313344', '313349', '313438', '313450', '313487', '313493',\n",
      "       '313512', '313551', '313552',\n",
      "       ...\n",
      "       '313144', '313159', '313166', '313172', '313178', '313184', '313190',\n",
      "       '313197', '313204', '313339'],\n",
      "      dtype='object', length=359)\u001b[0m\u001b[32;1m\u001b[1;3mO dataset contém 359 colunas. Vou agora verificar os nomes das colunas para fornecer uma resposta mais detalhada.\n",
      "\n",
      "Action: python_repl_ast\n",
      "Action Input: list(df.columns)\u001b[0m\u001b[36;1m\u001b[1;3m['timestamp', '313344', '313349', '313438', '313450', '313487', '313493', '313512', '313551', '313552', '317752', '313658', '317814', '317815', '317842', '317843', '317852', '317853', '315804', '317861', '317862', '313772', '317869', '315822', '317870', '315823', '315824', '315826', '315827', '315828', '315825', '315830', '315831', '315833', '315834', '315835', '317884', '317885', '315836', '315837', '315838', '315841', '315842', '315839', '315843', '315846', '315847', '317895', '315849', '315850', '317896', '315852', '315853', '317902', '317903', '315854', '315855', '315856', '315858', '315860', '315861', '317909', '317910', '315857', '315866', '315867', '315872', '315873', '315874', '315875', '315879', '315880', '315882', '315883', '317933', '315886', '315887', '317934', '315891', '315892', '315894', '315895', '313846', '317947', '313852', '315900', '317948', '315901', '315904', '315903', '315907', '317956', '315908', '315910', '315911', '317960', '315913', '315914', '315915', '317974', '315927', '315938', '317998', '315955', '315969', '318022', '318028', '318029', '315982', '318035', '318036', '315993', '311903', '313951', '316001', '313956', '318053', '318052', '316009', '316018', '316019', '311930', '313979', '318076', '318077', '316032', '316045', '318102', '314013', '316063', '316064', '318113', '316073', '316074', '314025', '318126', '316084', '316085', '314036', '318135', '314042', '318142', '312010', '316114', '316118', '316129', '318179', '318180', '314121', '318218', '316174', '318236', '312098', '314147', '312103', '314157', '314165', '312132', '312133', '312134', '318282', '312139', '314217', '316271', '314230', '316279', '316280', '316281', '312188', '314241', '314248', '318354', '316314', '312220', '318366', '316328', '312233', '312236', '318383', '318401', '312264', '318412', '316364', '318421', '318432', '316387', '316388', '318443', '316399', '316400', '318451', '316414', '314371', '312326', '314379', '316429', '318484', '316438', '312343', '312346', '318493', '316451', '314419', '312382', '318528', '314433', '312386', '312388', '318540', '314446', '318550', '318551', '314460', '312420', '312421', '312422', '318565', '318566', '312425', '318575', '318576', '314485', '312439', '318586', '314491', '318593', '314501', '318599', '318611', '318612', '318620', '318626', '318632', '318636', '314548', '318649', '318650', '314559', '318656', '312513', '312514', '312517', '312520', '318665', '318666', '312523', '312525', '312527', '318674', '312530', '318680', '314598', '312562', '312564', '312566', '318711', '314617', '312570', '318721', '314625', '318736', '318742', '318744', '314652', '318753', '318764', '314668', '318772', '318773', '318775', '314681', '314689', '318787', '318788', '312648', '314697', '314698', '312651', '318800', '318801', '314711', '314712', '318815', '318816', '314730', '318832', '312689', '312694', '318844', '312745', '312757', '312771', '312782', '312804', '312807', '314876', '314877', '314886', '314899', '312852', '312854', '312856', '312857', '312858', '314909', '312865', '314923', '314936', '312895', '312896', '312898', '312900', '314955', '314968', '314982', '312940', '312942', '312944', '314994', '312946', '315006', '317064', '315017', '315030', '317081', '317088', '315042', '313000', '313003', '313005', '315054', '313010', '315060', '313035', '313037', '317139', '317141', '317143', '317146', '313055', '317157', '317166', '317168', '317171', '313080', '313082', '313111', '313114', '313132', '313144', '313159', '313166', '313172', '313178', '313184', '313190', '313197', '313204', '313339']\u001b[0m\u001b[32;1m\u001b[1;3mFinal Answer: As colunas do dataset são: 'timestamp', '313344', '313349', '313438', '313450', '313487', '313493', '313512', '313551', '313552', '317752', '313658', '317814', '317815', '317842', '317843', '317852', '317853', '315804', '317861', '317862', '313772', '317869', '315822', '317870', '315823', '315824', '315826', '315827', '315828', '315825', '315830', '315831', '315833', '315834', '315835', '317884', '317885', '315836', '315837', '315838', '315841', '315842', '315839', '315843', '315846', '315847', '317895', '315849', '315850', '317896', '315852', '315853', '317902', '317903', '315854', '315855', '315856', '315858', '315860', '315861', '317909\u001b[0m\n",
      "\n",
      "\u001b[1m> Finished chain.\u001b[0m\n"
     ]
    },
    {
     "ename": "TypeError",
     "evalue": "Type is not msgpack serializable: Index",
     "output_type": "error",
     "traceback": [
      "\u001b[31m---------------------------------------------------------------------------\u001b[39m",
      "\u001b[31mTypeError\u001b[39m                                 Traceback (most recent call last)",
      "\u001b[36mCell\u001b[39m\u001b[36m \u001b[39m\u001b[32mIn[26]\u001b[39m\u001b[32m, line 1\u001b[39m\n\u001b[32m----> \u001b[39m\u001b[32m1\u001b[39m estado = \u001b[43mgraph\u001b[49m\u001b[43m.\u001b[49m\u001b[43minvoke\u001b[49m\u001b[43m(\u001b[49m\u001b[43m{\u001b[49m\u001b[33;43m\"\u001b[39;49m\u001b[33;43mmessages\u001b[39;49m\u001b[33;43m\"\u001b[39;49m\u001b[43m:\u001b[49m\u001b[43m \u001b[49m\u001b[43m[\u001b[49m\u001b[43mHumanMessage\u001b[49m\u001b[43m(\u001b[49m\u001b[43mcontent\u001b[49m\u001b[43m=\u001b[49m\u001b[33;43m\"\u001b[39;49m\u001b[33;43mQuais as coluanas do dataset? Retorne seus nomes.\u001b[39;49m\u001b[33;43m\"\u001b[39;49m\u001b[43m)\u001b[49m\u001b[43m]\u001b[49m\u001b[43m}\u001b[49m\u001b[43m,\u001b[49m\u001b[43m \u001b[49m\u001b[43mconfig\u001b[49m\u001b[43m)\u001b[49m\n",
      "\u001b[36mFile \u001b[39m\u001b[32mc:\\Users\\gabri\\Documents\\agenteiadp\\.venv\\Lib\\site-packages\\langgraph\\pregel\\__init__.py:2844\u001b[39m, in \u001b[36mPregel.invoke\u001b[39m\u001b[34m(self, input, config, stream_mode, print_mode, output_keys, interrupt_before, interrupt_after, **kwargs)\u001b[39m\n\u001b[32m   2841\u001b[39m chunks: \u001b[38;5;28mlist\u001b[39m[\u001b[38;5;28mdict\u001b[39m[\u001b[38;5;28mstr\u001b[39m, Any] | Any] = []\n\u001b[32m   2842\u001b[39m interrupts: \u001b[38;5;28mlist\u001b[39m[Interrupt] = []\n\u001b[32m-> \u001b[39m\u001b[32m2844\u001b[39m \u001b[43m\u001b[49m\u001b[38;5;28;43;01mfor\u001b[39;49;00m\u001b[43m \u001b[49m\u001b[43mchunk\u001b[49m\u001b[43m \u001b[49m\u001b[38;5;129;43;01min\u001b[39;49;00m\u001b[43m \u001b[49m\u001b[38;5;28;43mself\u001b[39;49m\u001b[43m.\u001b[49m\u001b[43mstream\u001b[49m\u001b[43m(\u001b[49m\n\u001b[32m   2845\u001b[39m \u001b[43m    \u001b[49m\u001b[38;5;28;43minput\u001b[39;49m\u001b[43m,\u001b[49m\n\u001b[32m   2846\u001b[39m \u001b[43m    \u001b[49m\u001b[43mconfig\u001b[49m\u001b[43m,\u001b[49m\n\u001b[32m   2847\u001b[39m \u001b[43m    \u001b[49m\u001b[43mstream_mode\u001b[49m\u001b[43m=\u001b[49m\u001b[43m[\u001b[49m\u001b[33;43m\"\u001b[39;49m\u001b[33;43mupdates\u001b[39;49m\u001b[33;43m\"\u001b[39;49m\u001b[43m,\u001b[49m\u001b[43m \u001b[49m\u001b[33;43m\"\u001b[39;49m\u001b[33;43mvalues\u001b[39;49m\u001b[33;43m\"\u001b[39;49m\u001b[43m]\u001b[49m\n\u001b[32m   2848\u001b[39m \u001b[43m    \u001b[49m\u001b[38;5;28;43;01mif\u001b[39;49;00m\u001b[43m \u001b[49m\u001b[43mstream_mode\u001b[49m\u001b[43m \u001b[49m\u001b[43m==\u001b[49m\u001b[43m \u001b[49m\u001b[33;43m\"\u001b[39;49m\u001b[33;43mvalues\u001b[39;49m\u001b[33;43m\"\u001b[39;49m\n\u001b[32m   2849\u001b[39m \u001b[43m    \u001b[49m\u001b[38;5;28;43;01melse\u001b[39;49;00m\u001b[43m \u001b[49m\u001b[43mstream_mode\u001b[49m\u001b[43m,\u001b[49m\n\u001b[32m   2850\u001b[39m \u001b[43m    \u001b[49m\u001b[43mprint_mode\u001b[49m\u001b[43m=\u001b[49m\u001b[43mprint_mode\u001b[49m\u001b[43m,\u001b[49m\n\u001b[32m   2851\u001b[39m \u001b[43m    \u001b[49m\u001b[43moutput_keys\u001b[49m\u001b[43m=\u001b[49m\u001b[43moutput_keys\u001b[49m\u001b[43m,\u001b[49m\n\u001b[32m   2852\u001b[39m \u001b[43m    \u001b[49m\u001b[43minterrupt_before\u001b[49m\u001b[43m=\u001b[49m\u001b[43minterrupt_before\u001b[49m\u001b[43m,\u001b[49m\n\u001b[32m   2853\u001b[39m \u001b[43m    \u001b[49m\u001b[43minterrupt_after\u001b[49m\u001b[43m=\u001b[49m\u001b[43minterrupt_after\u001b[49m\u001b[43m,\u001b[49m\n\u001b[32m   2854\u001b[39m \u001b[43m    \u001b[49m\u001b[43m*\u001b[49m\u001b[43m*\u001b[49m\u001b[43mkwargs\u001b[49m\u001b[43m,\u001b[49m\n\u001b[32m   2855\u001b[39m \u001b[43m\u001b[49m\u001b[43m)\u001b[49m\u001b[43m:\u001b[49m\n\u001b[32m   2856\u001b[39m \u001b[43m    \u001b[49m\u001b[38;5;28;43;01mif\u001b[39;49;00m\u001b[43m \u001b[49m\u001b[43mstream_mode\u001b[49m\u001b[43m \u001b[49m\u001b[43m==\u001b[49m\u001b[43m \u001b[49m\u001b[33;43m\"\u001b[39;49m\u001b[33;43mvalues\u001b[39;49m\u001b[33;43m\"\u001b[39;49m\u001b[43m:\u001b[49m\n\u001b[32m   2857\u001b[39m \u001b[43m        \u001b[49m\u001b[38;5;28;43;01mif\u001b[39;49;00m\u001b[43m \u001b[49m\u001b[38;5;28;43mlen\u001b[39;49m\u001b[43m(\u001b[49m\u001b[43mchunk\u001b[49m\u001b[43m)\u001b[49m\u001b[43m \u001b[49m\u001b[43m==\u001b[49m\u001b[43m \u001b[49m\u001b[32;43m2\u001b[39;49m\u001b[43m:\u001b[49m\n",
      "\u001b[36mFile \u001b[39m\u001b[32mc:\\Users\\gabri\\Documents\\agenteiadp\\.venv\\Lib\\site-packages\\langgraph\\pregel\\__init__.py:2467\u001b[39m, in \u001b[36mPregel.stream\u001b[39m\u001b[34m(self, input, config, stream_mode, print_mode, output_keys, interrupt_before, interrupt_after, checkpoint_during, debug, subgraphs)\u001b[39m\n\u001b[32m   2465\u001b[39m \u001b[38;5;28;01mif\u001b[39;00m checkpoint_during \u001b[38;5;129;01mis\u001b[39;00m \u001b[38;5;129;01mnot\u001b[39;00m \u001b[38;5;28;01mNone\u001b[39;00m:\n\u001b[32m   2466\u001b[39m     config[CONF][CONFIG_KEY_CHECKPOINT_DURING] = checkpoint_during\n\u001b[32m-> \u001b[39m\u001b[32m2467\u001b[39m \u001b[43m\u001b[49m\u001b[38;5;28;43;01mwith\u001b[39;49;00m\u001b[43m \u001b[49m\u001b[43mSyncPregelLoop\u001b[49m\u001b[43m(\u001b[49m\n\u001b[32m   2468\u001b[39m \u001b[43m    \u001b[49m\u001b[38;5;28;43minput\u001b[39;49m\u001b[43m,\u001b[49m\n\u001b[32m   2469\u001b[39m \u001b[43m    \u001b[49m\u001b[43mstream\u001b[49m\u001b[43m=\u001b[49m\u001b[43mStreamProtocol\u001b[49m\u001b[43m(\u001b[49m\u001b[43mstream\u001b[49m\u001b[43m.\u001b[49m\u001b[43mput\u001b[49m\u001b[43m,\u001b[49m\u001b[43m \u001b[49m\u001b[43mstream_modes\u001b[49m\u001b[43m)\u001b[49m\u001b[43m,\u001b[49m\n\u001b[32m   2470\u001b[39m \u001b[43m    \u001b[49m\u001b[43mconfig\u001b[49m\u001b[43m=\u001b[49m\u001b[43mconfig\u001b[49m\u001b[43m,\u001b[49m\n\u001b[32m   2471\u001b[39m \u001b[43m    \u001b[49m\u001b[43mstore\u001b[49m\u001b[43m=\u001b[49m\u001b[43mstore\u001b[49m\u001b[43m,\u001b[49m\n\u001b[32m   2472\u001b[39m \u001b[43m    \u001b[49m\u001b[43mcache\u001b[49m\u001b[43m=\u001b[49m\u001b[43mcache\u001b[49m\u001b[43m,\u001b[49m\n\u001b[32m   2473\u001b[39m \u001b[43m    \u001b[49m\u001b[43mcheckpointer\u001b[49m\u001b[43m=\u001b[49m\u001b[43mcheckpointer\u001b[49m\u001b[43m,\u001b[49m\n\u001b[32m   2474\u001b[39m \u001b[43m    \u001b[49m\u001b[43mnodes\u001b[49m\u001b[43m=\u001b[49m\u001b[38;5;28;43mself\u001b[39;49m\u001b[43m.\u001b[49m\u001b[43mnodes\u001b[49m\u001b[43m,\u001b[49m\n\u001b[32m   2475\u001b[39m \u001b[43m    \u001b[49m\u001b[43mspecs\u001b[49m\u001b[43m=\u001b[49m\u001b[38;5;28;43mself\u001b[39;49m\u001b[43m.\u001b[49m\u001b[43mchannels\u001b[49m\u001b[43m,\u001b[49m\n\u001b[32m   2476\u001b[39m \u001b[43m    \u001b[49m\u001b[43moutput_keys\u001b[49m\u001b[43m=\u001b[49m\u001b[43moutput_keys\u001b[49m\u001b[43m,\u001b[49m\n\u001b[32m   2477\u001b[39m \u001b[43m    \u001b[49m\u001b[43minput_keys\u001b[49m\u001b[43m=\u001b[49m\u001b[38;5;28;43mself\u001b[39;49m\u001b[43m.\u001b[49m\u001b[43minput_channels\u001b[49m\u001b[43m,\u001b[49m\n\u001b[32m   2478\u001b[39m \u001b[43m    \u001b[49m\u001b[43mstream_keys\u001b[49m\u001b[43m=\u001b[49m\u001b[38;5;28;43mself\u001b[39;49m\u001b[43m.\u001b[49m\u001b[43mstream_channels_asis\u001b[49m\u001b[43m,\u001b[49m\n\u001b[32m   2479\u001b[39m \u001b[43m    \u001b[49m\u001b[43minterrupt_before\u001b[49m\u001b[43m=\u001b[49m\u001b[43minterrupt_before_\u001b[49m\u001b[43m,\u001b[49m\n\u001b[32m   2480\u001b[39m \u001b[43m    \u001b[49m\u001b[43minterrupt_after\u001b[49m\u001b[43m=\u001b[49m\u001b[43minterrupt_after_\u001b[49m\u001b[43m,\u001b[49m\n\u001b[32m   2481\u001b[39m \u001b[43m    \u001b[49m\u001b[43mmanager\u001b[49m\u001b[43m=\u001b[49m\u001b[43mrun_manager\u001b[49m\u001b[43m,\u001b[49m\n\u001b[32m   2482\u001b[39m \u001b[43m    \u001b[49m\u001b[43mcheckpoint_during\u001b[49m\u001b[43m=\u001b[49m\u001b[43mcheckpoint_during\u001b[49m\n\u001b[32m   2483\u001b[39m \u001b[43m    \u001b[49m\u001b[38;5;28;43;01mif\u001b[39;49;00m\u001b[43m \u001b[49m\u001b[43mcheckpoint_during\u001b[49m\u001b[43m \u001b[49m\u001b[38;5;129;43;01mis\u001b[39;49;00m\u001b[43m \u001b[49m\u001b[38;5;129;43;01mnot\u001b[39;49;00m\u001b[43m \u001b[49m\u001b[38;5;28;43;01mNone\u001b[39;49;00m\n\u001b[32m   2484\u001b[39m \u001b[43m    \u001b[49m\u001b[38;5;28;43;01melse\u001b[39;49;00m\u001b[43m \u001b[49m\u001b[43mconfig\u001b[49m\u001b[43m[\u001b[49m\u001b[43mCONF\u001b[49m\u001b[43m]\u001b[49m\u001b[43m.\u001b[49m\u001b[43mget\u001b[49m\u001b[43m(\u001b[49m\u001b[43mCONFIG_KEY_CHECKPOINT_DURING\u001b[49m\u001b[43m,\u001b[49m\u001b[43m \u001b[49m\u001b[38;5;28;43;01mTrue\u001b[39;49;00m\u001b[43m)\u001b[49m\u001b[43m,\u001b[49m\n\u001b[32m   2485\u001b[39m \u001b[43m    \u001b[49m\u001b[43mtrigger_to_nodes\u001b[49m\u001b[43m=\u001b[49m\u001b[38;5;28;43mself\u001b[39;49m\u001b[43m.\u001b[49m\u001b[43mtrigger_to_nodes\u001b[49m\u001b[43m,\u001b[49m\n\u001b[32m   2486\u001b[39m \u001b[43m    \u001b[49m\u001b[43mmigrate_checkpoint\u001b[49m\u001b[43m=\u001b[49m\u001b[38;5;28;43mself\u001b[39;49m\u001b[43m.\u001b[49m\u001b[43m_migrate_checkpoint\u001b[49m\u001b[43m,\u001b[49m\n\u001b[32m   2487\u001b[39m \u001b[43m    \u001b[49m\u001b[43mretry_policy\u001b[49m\u001b[43m=\u001b[49m\u001b[38;5;28;43mself\u001b[39;49m\u001b[43m.\u001b[49m\u001b[43mretry_policy\u001b[49m\u001b[43m,\u001b[49m\n\u001b[32m   2488\u001b[39m \u001b[43m    \u001b[49m\u001b[43mcache_policy\u001b[49m\u001b[43m=\u001b[49m\u001b[38;5;28;43mself\u001b[39;49m\u001b[43m.\u001b[49m\u001b[43mcache_policy\u001b[49m\u001b[43m,\u001b[49m\n\u001b[32m   2489\u001b[39m \u001b[43m\u001b[49m\u001b[43m)\u001b[49m\u001b[43m \u001b[49m\u001b[38;5;28;43;01mas\u001b[39;49;00m\u001b[43m \u001b[49m\u001b[43mloop\u001b[49m\u001b[43m:\u001b[49m\n\u001b[32m   2490\u001b[39m \u001b[43m    \u001b[49m\u001b[38;5;66;43;03m# create runner\u001b[39;49;00m\n\u001b[32m   2491\u001b[39m \u001b[43m    \u001b[49m\u001b[43mrunner\u001b[49m\u001b[43m \u001b[49m\u001b[43m=\u001b[49m\u001b[43m \u001b[49m\u001b[43mPregelRunner\u001b[49m\u001b[43m(\u001b[49m\n\u001b[32m   2492\u001b[39m \u001b[43m        \u001b[49m\u001b[43msubmit\u001b[49m\u001b[43m=\u001b[49m\u001b[43mconfig\u001b[49m\u001b[43m[\u001b[49m\u001b[43mCONF\u001b[49m\u001b[43m]\u001b[49m\u001b[43m.\u001b[49m\u001b[43mget\u001b[49m\u001b[43m(\u001b[49m\n\u001b[32m   2493\u001b[39m \u001b[43m            \u001b[49m\u001b[43mCONFIG_KEY_RUNNER_SUBMIT\u001b[49m\u001b[43m,\u001b[49m\u001b[43m \u001b[49m\u001b[43mweakref\u001b[49m\u001b[43m.\u001b[49m\u001b[43mWeakMethod\u001b[49m\u001b[43m(\u001b[49m\u001b[43mloop\u001b[49m\u001b[43m.\u001b[49m\u001b[43msubmit\u001b[49m\u001b[43m)\u001b[49m\n\u001b[32m   (...)\u001b[39m\u001b[32m   2496\u001b[39m \u001b[43m        \u001b[49m\u001b[43mnode_finished\u001b[49m\u001b[43m=\u001b[49m\u001b[43mconfig\u001b[49m\u001b[43m[\u001b[49m\u001b[43mCONF\u001b[49m\u001b[43m]\u001b[49m\u001b[43m.\u001b[49m\u001b[43mget\u001b[49m\u001b[43m(\u001b[49m\u001b[43mCONFIG_KEY_NODE_FINISHED\u001b[49m\u001b[43m)\u001b[49m\u001b[43m,\u001b[49m\n\u001b[32m   2497\u001b[39m \u001b[43m    \u001b[49m\u001b[43m)\u001b[49m\n\u001b[32m   2498\u001b[39m \u001b[43m    \u001b[49m\u001b[38;5;66;43;03m# enable subgraph streaming\u001b[39;49;00m\n",
      "\u001b[36mFile \u001b[39m\u001b[32mc:\\Users\\gabri\\Documents\\agenteiadp\\.venv\\Lib\\site-packages\\langgraph\\pregel\\loop.py:1051\u001b[39m, in \u001b[36mSyncPregelLoop.__exit__\u001b[39m\u001b[34m(self, exc_type, exc_value, traceback)\u001b[39m\n\u001b[32m   1044\u001b[39m \u001b[38;5;28;01mdef\u001b[39;00m\u001b[38;5;250m \u001b[39m\u001b[34m__exit__\u001b[39m(\n\u001b[32m   1045\u001b[39m     \u001b[38;5;28mself\u001b[39m,\n\u001b[32m   1046\u001b[39m     exc_type: \u001b[38;5;28mtype\u001b[39m[\u001b[38;5;167;01mBaseException\u001b[39;00m] | \u001b[38;5;28;01mNone\u001b[39;00m,\n\u001b[32m   (...)\u001b[39m\u001b[32m   1049\u001b[39m ) -> \u001b[38;5;28mbool\u001b[39m | \u001b[38;5;28;01mNone\u001b[39;00m:\n\u001b[32m   1050\u001b[39m     \u001b[38;5;66;03m# unwind stack\u001b[39;00m\n\u001b[32m-> \u001b[39m\u001b[32m1051\u001b[39m     \u001b[38;5;28;01mreturn\u001b[39;00m \u001b[38;5;28;43mself\u001b[39;49m\u001b[43m.\u001b[49m\u001b[43mstack\u001b[49m\u001b[43m.\u001b[49m\u001b[34;43m__exit__\u001b[39;49m\u001b[43m(\u001b[49m\u001b[43mexc_type\u001b[49m\u001b[43m,\u001b[49m\u001b[43m \u001b[49m\u001b[43mexc_value\u001b[49m\u001b[43m,\u001b[49m\u001b[43m \u001b[49m\u001b[43mtraceback\u001b[49m\u001b[43m)\u001b[49m\n",
      "\u001b[36mFile \u001b[39m\u001b[32m~\\AppData\\Roaming\\uv\\python\\cpython-3.11.13-windows-x86_64-none\\Lib\\contextlib.py:601\u001b[39m, in \u001b[36mExitStack.__exit__\u001b[39m\u001b[34m(self, *exc_details)\u001b[39m\n\u001b[32m    597\u001b[39m \u001b[38;5;28;01mtry\u001b[39;00m:\n\u001b[32m    598\u001b[39m     \u001b[38;5;66;03m# bare \"raise exc_details[1]\" replaces our carefully\u001b[39;00m\n\u001b[32m    599\u001b[39m     \u001b[38;5;66;03m# set-up context\u001b[39;00m\n\u001b[32m    600\u001b[39m     fixed_ctx = exc_details[\u001b[32m1\u001b[39m].__context__\n\u001b[32m--> \u001b[39m\u001b[32m601\u001b[39m     \u001b[38;5;28;01mraise\u001b[39;00m exc_details[\u001b[32m1\u001b[39m]\n\u001b[32m    602\u001b[39m \u001b[38;5;28;01mexcept\u001b[39;00m \u001b[38;5;167;01mBaseException\u001b[39;00m:\n\u001b[32m    603\u001b[39m     exc_details[\u001b[32m1\u001b[39m].__context__ = fixed_ctx\n",
      "\u001b[36mFile \u001b[39m\u001b[32m~\\AppData\\Roaming\\uv\\python\\cpython-3.11.13-windows-x86_64-none\\Lib\\contextlib.py:586\u001b[39m, in \u001b[36mExitStack.__exit__\u001b[39m\u001b[34m(self, *exc_details)\u001b[39m\n\u001b[32m    584\u001b[39m \u001b[38;5;28;01massert\u001b[39;00m is_sync\n\u001b[32m    585\u001b[39m \u001b[38;5;28;01mtry\u001b[39;00m:\n\u001b[32m--> \u001b[39m\u001b[32m586\u001b[39m     \u001b[38;5;28;01mif\u001b[39;00m \u001b[43mcb\u001b[49m\u001b[43m(\u001b[49m\u001b[43m*\u001b[49m\u001b[43mexc_details\u001b[49m\u001b[43m)\u001b[49m:\n\u001b[32m    587\u001b[39m         suppressed_exc = \u001b[38;5;28;01mTrue\u001b[39;00m\n\u001b[32m    588\u001b[39m         pending_raise = \u001b[38;5;28;01mFalse\u001b[39;00m\n",
      "\u001b[36mFile \u001b[39m\u001b[32mc:\\Users\\gabri\\Documents\\agenteiadp\\.venv\\Lib\\site-packages\\langgraph\\pregel\\executor.py:118\u001b[39m, in \u001b[36mBackgroundExecutor.__exit__\u001b[39m\u001b[34m(self, exc_type, exc_value, traceback)\u001b[39m\n\u001b[32m    116\u001b[39m     \u001b[38;5;28;01mcontinue\u001b[39;00m\n\u001b[32m    117\u001b[39m \u001b[38;5;28;01mtry\u001b[39;00m:\n\u001b[32m--> \u001b[39m\u001b[32m118\u001b[39m     \u001b[43mtask\u001b[49m\u001b[43m.\u001b[49m\u001b[43mresult\u001b[49m\u001b[43m(\u001b[49m\u001b[43m)\u001b[49m\n\u001b[32m    119\u001b[39m \u001b[38;5;28;01mexcept\u001b[39;00m concurrent.futures.CancelledError:\n\u001b[32m    120\u001b[39m     \u001b[38;5;28;01mpass\u001b[39;00m\n",
      "\u001b[36mFile \u001b[39m\u001b[32m~\\AppData\\Roaming\\uv\\python\\cpython-3.11.13-windows-x86_64-none\\Lib\\concurrent\\futures\\_base.py:449\u001b[39m, in \u001b[36mFuture.result\u001b[39m\u001b[34m(self, timeout)\u001b[39m\n\u001b[32m    447\u001b[39m     \u001b[38;5;28;01mraise\u001b[39;00m CancelledError()\n\u001b[32m    448\u001b[39m \u001b[38;5;28;01melif\u001b[39;00m \u001b[38;5;28mself\u001b[39m._state == FINISHED:\n\u001b[32m--> \u001b[39m\u001b[32m449\u001b[39m     \u001b[38;5;28;01mreturn\u001b[39;00m \u001b[38;5;28;43mself\u001b[39;49m\u001b[43m.\u001b[49m\u001b[43m__get_result\u001b[49m\u001b[43m(\u001b[49m\u001b[43m)\u001b[49m\n\u001b[32m    451\u001b[39m \u001b[38;5;28mself\u001b[39m._condition.wait(timeout)\n\u001b[32m    453\u001b[39m \u001b[38;5;28;01mif\u001b[39;00m \u001b[38;5;28mself\u001b[39m._state \u001b[38;5;129;01min\u001b[39;00m [CANCELLED, CANCELLED_AND_NOTIFIED]:\n",
      "\u001b[36mFile \u001b[39m\u001b[32m~\\AppData\\Roaming\\uv\\python\\cpython-3.11.13-windows-x86_64-none\\Lib\\concurrent\\futures\\_base.py:401\u001b[39m, in \u001b[36mFuture.__get_result\u001b[39m\u001b[34m(self)\u001b[39m\n\u001b[32m    399\u001b[39m \u001b[38;5;28;01mif\u001b[39;00m \u001b[38;5;28mself\u001b[39m._exception:\n\u001b[32m    400\u001b[39m     \u001b[38;5;28;01mtry\u001b[39;00m:\n\u001b[32m--> \u001b[39m\u001b[32m401\u001b[39m         \u001b[38;5;28;01mraise\u001b[39;00m \u001b[38;5;28mself\u001b[39m._exception\n\u001b[32m    402\u001b[39m     \u001b[38;5;28;01mfinally\u001b[39;00m:\n\u001b[32m    403\u001b[39m         \u001b[38;5;66;03m# Break a reference cycle with the exception in self._exception\u001b[39;00m\n\u001b[32m    404\u001b[39m         \u001b[38;5;28mself\u001b[39m = \u001b[38;5;28;01mNone\u001b[39;00m\n",
      "\u001b[36mFile \u001b[39m\u001b[32mc:\\Users\\gabri\\Documents\\agenteiadp\\.venv\\Lib\\site-packages\\langgraph\\pregel\\executor.py:81\u001b[39m, in \u001b[36mBackgroundExecutor.done\u001b[39m\u001b[34m(self, task)\u001b[39m\n\u001b[32m     79\u001b[39m \u001b[38;5;250m\u001b[39m\u001b[33;03m\"\"\"Remove the task from the tasks dict when it's done.\"\"\"\u001b[39;00m\n\u001b[32m     80\u001b[39m \u001b[38;5;28;01mtry\u001b[39;00m:\n\u001b[32m---> \u001b[39m\u001b[32m81\u001b[39m     \u001b[43mtask\u001b[49m\u001b[43m.\u001b[49m\u001b[43mresult\u001b[49m\u001b[43m(\u001b[49m\u001b[43m)\u001b[49m\n\u001b[32m     82\u001b[39m \u001b[38;5;28;01mexcept\u001b[39;00m GraphBubbleUp:\n\u001b[32m     83\u001b[39m     \u001b[38;5;66;03m# This exception is an interruption signal, not an error\u001b[39;00m\n\u001b[32m     84\u001b[39m     \u001b[38;5;66;03m# so we don't want to re-raise it on exit\u001b[39;00m\n\u001b[32m     85\u001b[39m     \u001b[38;5;28mself\u001b[39m.tasks.pop(task)\n",
      "\u001b[36mFile \u001b[39m\u001b[32m~\\AppData\\Roaming\\uv\\python\\cpython-3.11.13-windows-x86_64-none\\Lib\\concurrent\\futures\\_base.py:449\u001b[39m, in \u001b[36mFuture.result\u001b[39m\u001b[34m(self, timeout)\u001b[39m\n\u001b[32m    447\u001b[39m     \u001b[38;5;28;01mraise\u001b[39;00m CancelledError()\n\u001b[32m    448\u001b[39m \u001b[38;5;28;01melif\u001b[39;00m \u001b[38;5;28mself\u001b[39m._state == FINISHED:\n\u001b[32m--> \u001b[39m\u001b[32m449\u001b[39m     \u001b[38;5;28;01mreturn\u001b[39;00m \u001b[38;5;28;43mself\u001b[39;49m\u001b[43m.\u001b[49m\u001b[43m__get_result\u001b[49m\u001b[43m(\u001b[49m\u001b[43m)\u001b[49m\n\u001b[32m    451\u001b[39m \u001b[38;5;28mself\u001b[39m._condition.wait(timeout)\n\u001b[32m    453\u001b[39m \u001b[38;5;28;01mif\u001b[39;00m \u001b[38;5;28mself\u001b[39m._state \u001b[38;5;129;01min\u001b[39;00m [CANCELLED, CANCELLED_AND_NOTIFIED]:\n",
      "\u001b[36mFile \u001b[39m\u001b[32m~\\AppData\\Roaming\\uv\\python\\cpython-3.11.13-windows-x86_64-none\\Lib\\concurrent\\futures\\_base.py:401\u001b[39m, in \u001b[36mFuture.__get_result\u001b[39m\u001b[34m(self)\u001b[39m\n\u001b[32m    399\u001b[39m \u001b[38;5;28;01mif\u001b[39;00m \u001b[38;5;28mself\u001b[39m._exception:\n\u001b[32m    400\u001b[39m     \u001b[38;5;28;01mtry\u001b[39;00m:\n\u001b[32m--> \u001b[39m\u001b[32m401\u001b[39m         \u001b[38;5;28;01mraise\u001b[39;00m \u001b[38;5;28mself\u001b[39m._exception\n\u001b[32m    402\u001b[39m     \u001b[38;5;28;01mfinally\u001b[39;00m:\n\u001b[32m    403\u001b[39m         \u001b[38;5;66;03m# Break a reference cycle with the exception in self._exception\u001b[39;00m\n\u001b[32m    404\u001b[39m         \u001b[38;5;28mself\u001b[39m = \u001b[38;5;28;01mNone\u001b[39;00m\n",
      "\u001b[36mFile \u001b[39m\u001b[32m~\\AppData\\Roaming\\uv\\python\\cpython-3.11.13-windows-x86_64-none\\Lib\\concurrent\\futures\\thread.py:58\u001b[39m, in \u001b[36m_WorkItem.run\u001b[39m\u001b[34m(self)\u001b[39m\n\u001b[32m     55\u001b[39m     \u001b[38;5;28;01mreturn\u001b[39;00m\n\u001b[32m     57\u001b[39m \u001b[38;5;28;01mtry\u001b[39;00m:\n\u001b[32m---> \u001b[39m\u001b[32m58\u001b[39m     result = \u001b[38;5;28;43mself\u001b[39;49m\u001b[43m.\u001b[49m\u001b[43mfn\u001b[49m\u001b[43m(\u001b[49m\u001b[43m*\u001b[49m\u001b[38;5;28;43mself\u001b[39;49m\u001b[43m.\u001b[49m\u001b[43margs\u001b[49m\u001b[43m,\u001b[49m\u001b[43m \u001b[49m\u001b[43m*\u001b[49m\u001b[43m*\u001b[49m\u001b[38;5;28;43mself\u001b[39;49m\u001b[43m.\u001b[49m\u001b[43mkwargs\u001b[49m\u001b[43m)\u001b[49m\n\u001b[32m     59\u001b[39m \u001b[38;5;28;01mexcept\u001b[39;00m \u001b[38;5;167;01mBaseException\u001b[39;00m \u001b[38;5;28;01mas\u001b[39;00m exc:\n\u001b[32m     60\u001b[39m     \u001b[38;5;28mself\u001b[39m.future.set_exception(exc)\n",
      "\u001b[36mFile \u001b[39m\u001b[32mc:\\Users\\gabri\\Documents\\agenteiadp\\.venv\\Lib\\site-packages\\langgraph\\checkpoint\\memory\\__init__.py:403\u001b[39m, in \u001b[36mInMemorySaver.put_writes\u001b[39m\u001b[34m(self, config, writes, task_id, task_path)\u001b[39m\n\u001b[32m    397\u001b[39m \u001b[38;5;28;01mif\u001b[39;00m inner_key[\u001b[32m1\u001b[39m] >= \u001b[32m0\u001b[39m \u001b[38;5;129;01mand\u001b[39;00m outer_writes_ \u001b[38;5;129;01mand\u001b[39;00m inner_key \u001b[38;5;129;01min\u001b[39;00m outer_writes_:\n\u001b[32m    398\u001b[39m     \u001b[38;5;28;01mcontinue\u001b[39;00m\n\u001b[32m    400\u001b[39m \u001b[38;5;28mself\u001b[39m.writes[outer_key][inner_key] = (\n\u001b[32m    401\u001b[39m     task_id,\n\u001b[32m    402\u001b[39m     c,\n\u001b[32m--> \u001b[39m\u001b[32m403\u001b[39m     \u001b[38;5;28;43mself\u001b[39;49m\u001b[43m.\u001b[49m\u001b[43mserde\u001b[49m\u001b[43m.\u001b[49m\u001b[43mdumps_typed\u001b[49m\u001b[43m(\u001b[49m\u001b[43mv\u001b[49m\u001b[43m)\u001b[49m,\n\u001b[32m    404\u001b[39m     task_path,\n\u001b[32m    405\u001b[39m )\n",
      "\u001b[36mFile \u001b[39m\u001b[32mc:\\Users\\gabri\\Documents\\agenteiadp\\.venv\\Lib\\site-packages\\langgraph\\checkpoint\\serde\\jsonplus.py:222\u001b[39m, in \u001b[36mJsonPlusSerializer.dumps_typed\u001b[39m\u001b[34m(self, obj)\u001b[39m\n\u001b[32m    220\u001b[39m \u001b[38;5;28;01melif\u001b[39;00m \u001b[38;5;28mself\u001b[39m.pickle_fallback:\n\u001b[32m    221\u001b[39m     \u001b[38;5;28;01mreturn\u001b[39;00m \u001b[33m\"\u001b[39m\u001b[33mpickle\u001b[39m\u001b[33m\"\u001b[39m, pickle.dumps(obj)\n\u001b[32m--> \u001b[39m\u001b[32m222\u001b[39m \u001b[38;5;28;01mraise\u001b[39;00m exc\n",
      "\u001b[36mFile \u001b[39m\u001b[32mc:\\Users\\gabri\\Documents\\agenteiadp\\.venv\\Lib\\site-packages\\langgraph\\checkpoint\\serde\\jsonplus.py:216\u001b[39m, in \u001b[36mJsonPlusSerializer.dumps_typed\u001b[39m\u001b[34m(self, obj)\u001b[39m\n\u001b[32m    214\u001b[39m \u001b[38;5;28;01melse\u001b[39;00m:\n\u001b[32m    215\u001b[39m     \u001b[38;5;28;01mtry\u001b[39;00m:\n\u001b[32m--> \u001b[39m\u001b[32m216\u001b[39m         \u001b[38;5;28;01mreturn\u001b[39;00m \u001b[33m\"\u001b[39m\u001b[33mmsgpack\u001b[39m\u001b[33m\"\u001b[39m, \u001b[43m_msgpack_enc\u001b[49m\u001b[43m(\u001b[49m\u001b[43mobj\u001b[49m\u001b[43m)\u001b[49m\n\u001b[32m    217\u001b[39m     \u001b[38;5;28;01mexcept\u001b[39;00m ormsgpack.MsgpackEncodeError \u001b[38;5;28;01mas\u001b[39;00m exc:\n\u001b[32m    218\u001b[39m         \u001b[38;5;28;01mif\u001b[39;00m \u001b[33m\"\u001b[39m\u001b[33mvalid UTF-8\u001b[39m\u001b[33m\"\u001b[39m \u001b[38;5;129;01min\u001b[39;00m \u001b[38;5;28mstr\u001b[39m(exc):\n",
      "\u001b[36mFile \u001b[39m\u001b[32mc:\\Users\\gabri\\Documents\\agenteiadp\\.venv\\Lib\\site-packages\\langgraph\\checkpoint\\serde\\jsonplus.py:676\u001b[39m, in \u001b[36m_msgpack_enc\u001b[39m\u001b[34m(data)\u001b[39m\n\u001b[32m    675\u001b[39m \u001b[38;5;28;01mdef\u001b[39;00m\u001b[38;5;250m \u001b[39m\u001b[34m_msgpack_enc\u001b[39m(data: Any) -> \u001b[38;5;28mbytes\u001b[39m:\n\u001b[32m--> \u001b[39m\u001b[32m676\u001b[39m     \u001b[38;5;28;01mreturn\u001b[39;00m ormsgpack.packb(data, default=_msgpack_default, option=_option)\n",
      "\u001b[31mTypeError\u001b[39m: Type is not msgpack serializable: Index"
     ]
    }
   ],
   "source": [
    "estado = graph.invoke({\"messages\": [HumanMessage(content=\"Quais as colunas do dataset? Retorne seus nomes.\")]}, config)"
   ]
  },
  {
   "cell_type": "code",
   "execution_count": 49,
   "id": "bd784ecd",
   "metadata": {},
   "outputs": [
    {
     "data": {
      "text/plain": [
       "[SystemMessage(content='\\nVocê é um analista de dados especialista em Análise Exploratória de Dados (EDA), com foco principal em datasets de séries temporais. Sua tarefa é usar as ferramentas disponíveis para extrair insights valiosos e responder às perguntas do usuário, seguindo um ciclo rigoroso de raciocínio.\\n\\nVocê tem acesso às seguintes ferramentas:\\n{tools}\\n\\n### REGRAS DE EXECUÇÃO\\n1.  **Ciclo de Análise**: Você deve decompor o problema em passos. Para cada passo, você gerará um **Pensamento** e uma **Ação**. Sua resposta DEVE parar após o JSON da Ação.\\n2.  **Análise da Observação**: Após sua ação, o sistema fornecerá uma **Observação**. Você DEVE analisar esta observação (seja um resultado ou um erro) para formular seu próximo Pensamento e Ação.\\n3.  **Simplicidade das Ferramentas**: As ferramentas são simples. Elas NÃO aceitam filtros ou lógicas complexas no `action_input`. Se uma tarefa requer múltiplos passos (como filtrar por data e depois contar), você DEVE usar ferramentas em passos separados.\\n4.  **Formato do Input**: O formato de `action_input` é CRÍTICO. Para ferramentas que pedem um nome de coluna (como `value_counts`), o input deve ser uma STRING SIMPLES (ex: `\"Minha_Coluna\"`), não um objeto JSON.\\n\\n### EXEMPLO DE CICLO COMPLETO\\n\\nPergunta: Qual a distribuição da coluna \\'Vendas_Totais\\'?\\nPensamento: Não tenho certeza do nome exato da coluna. Vou primeiro verificar todos os nomes de colunas disponíveis para ter certeza.\\nAção:\\n```json\\n{\\n    \"action\": \"get_column_names\",\\n    \"action_input\": {}\\n}\\n```\\nObservação: [\\'Timestamp\\', \\'Vendas_Totais\\', \\'Regiao\\', \\'ID_Produto\\']\\nPensamento: Agora vejo o nome correto da coluna é \\'Vendas_Totais\\'. Vou chamar value_counts para obter a distribuição, usando o formato de string simples como a ferramenta requer.\\nAção:\\n```json\\n{\\n    \"action\": \"value_counts\",\\n    \"action_input\": \"Vendas_Totais\"\\n}\\n```\\nObservação: [Resultado da ferramenta value_counts]\\nPensamento: Agora tenho a informação que preciso para responder diretamente ao usuário.\\nResposta Final: A distribuição da coluna \\'Vendas_Totais\\' é a seguinte: [resultado do value_counts aqui]\\n\\nSEU TURNO\\nAgora, siga o mesmo processo. Analise a pergunta e o histórico (Observações).\\n\\nSe você precisar de mais informações, use este formato:\\nPensamento: [Seu raciocínio sobre qual ferramenta usar e por quê]\\nAção:\\n```json\\n{\\n\"action\": \"nome da ferramenta\",\\n\"action_input\": \"entrada da ferramenta\"\\n}\\n```\\nSe você já pode responder, use este formato:\\nPensamento: [Seu raciocínio de que a informação é suficiente]\\nResposta Final: [Sua resposta completa e bem formatada para o usuário]\\n', additional_kwargs={}, response_metadata={}, id='dae54d4c-1d21-4ebc-bf2f-337a820e195b', input_variables=['tool_names', 'tools']),\n",
       " HumanMessage(content='Quais são os nomes das colunas?', additional_kwargs={}, response_metadata={}, id='431cda8f-b5f5-450a-8b0f-210b519333e0'),\n",
       " AIMessage(content='Pensamento: Para identificar os nomes das colunas disponíveis no dataset, vou utilizar a função `get_column_names`.\\nAção:\\n```json\\n{\\n    \"action\": \"get_column_names\",\\n    \"action_input\": {}\\n}\\n```', additional_kwargs={}, response_metadata={'token_usage': {'prompt_tokens': 1637, 'total_tokens': 1688, 'completion_tokens': 51, 'estimated_cost': 0.00066745}, 'model': 'deepseek-ai/DeepSeek-V3', 'finish_reason': 'stop'}, id='run--a40918e8-0248-45ca-9e44-db3df2187d2b-0')]"
      ]
     },
     "execution_count": 49,
     "metadata": {},
     "output_type": "execute_result"
    }
   ],
   "source": [
    "estado[\"messages\"]"
   ]
  }
 ],
 "metadata": {
  "kernelspec": {
   "display_name": "agenteiadp",
   "language": "python",
   "name": "python3"
  },
  "language_info": {
   "codemirror_mode": {
    "name": "ipython",
    "version": 3
   },
   "file_extension": ".py",
   "mimetype": "text/x-python",
   "name": "python",
   "nbconvert_exporter": "python",
   "pygments_lexer": "ipython3",
   "version": "3.11.13"
  }
 },
 "nbformat": 4,
 "nbformat_minor": 5
}
